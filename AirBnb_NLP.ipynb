{
  "nbformat": 4,
  "nbformat_minor": 0,
  "metadata": {
    "colab": {
      "name": "AirBnb - NLP",
      "provenance": [],
      "collapsed_sections": []
    },
    "kernelspec": {
      "name": "python3",
      "display_name": "Python 3"
    },
    "accelerator": "GPU"
  },
  "cells": [
    {
      "cell_type": "code",
      "metadata": {
        "id": "-RSepb8I88Ka",
        "colab_type": "code",
        "colab": {
          "base_uri": "https://localhost:8080/",
          "height": 428
        },
        "outputId": "abb88774-c717-4aa5-bfca-a2982aff06db"
      },
      "source": [
        "import pandas as pd\n",
        "\n",
        "df = pd.read_csv(\"AB_NYC_2019.csv\")\n",
        "\n",
        "print(df.shape)\n",
        "df.head()"
      ],
      "execution_count": null,
      "outputs": [
        {
          "output_type": "stream",
          "text": [
            "(48895, 16)\n"
          ],
          "name": "stdout"
        },
        {
          "output_type": "execute_result",
          "data": {
            "text/html": [
              "<div>\n",
              "<style scoped>\n",
              "    .dataframe tbody tr th:only-of-type {\n",
              "        vertical-align: middle;\n",
              "    }\n",
              "\n",
              "    .dataframe tbody tr th {\n",
              "        vertical-align: top;\n",
              "    }\n",
              "\n",
              "    .dataframe thead th {\n",
              "        text-align: right;\n",
              "    }\n",
              "</style>\n",
              "<table border=\"1\" class=\"dataframe\">\n",
              "  <thead>\n",
              "    <tr style=\"text-align: right;\">\n",
              "      <th></th>\n",
              "      <th>id</th>\n",
              "      <th>name</th>\n",
              "      <th>host_id</th>\n",
              "      <th>host_name</th>\n",
              "      <th>neighbourhood_group</th>\n",
              "      <th>neighbourhood</th>\n",
              "      <th>latitude</th>\n",
              "      <th>longitude</th>\n",
              "      <th>room_type</th>\n",
              "      <th>price</th>\n",
              "      <th>minimum_nights</th>\n",
              "      <th>number_of_reviews</th>\n",
              "      <th>last_review</th>\n",
              "      <th>reviews_per_month</th>\n",
              "      <th>calculated_host_listings_count</th>\n",
              "      <th>availability_365</th>\n",
              "    </tr>\n",
              "  </thead>\n",
              "  <tbody>\n",
              "    <tr>\n",
              "      <th>0</th>\n",
              "      <td>2539</td>\n",
              "      <td>Clean &amp; quiet apt home by the park</td>\n",
              "      <td>2787</td>\n",
              "      <td>John</td>\n",
              "      <td>Brooklyn</td>\n",
              "      <td>Kensington</td>\n",
              "      <td>40.64749</td>\n",
              "      <td>-73.97237</td>\n",
              "      <td>Private room</td>\n",
              "      <td>149</td>\n",
              "      <td>1</td>\n",
              "      <td>9</td>\n",
              "      <td>2018-10-19</td>\n",
              "      <td>0.21</td>\n",
              "      <td>6</td>\n",
              "      <td>365</td>\n",
              "    </tr>\n",
              "    <tr>\n",
              "      <th>1</th>\n",
              "      <td>2595</td>\n",
              "      <td>Skylit Midtown Castle</td>\n",
              "      <td>2845</td>\n",
              "      <td>Jennifer</td>\n",
              "      <td>Manhattan</td>\n",
              "      <td>Midtown</td>\n",
              "      <td>40.75362</td>\n",
              "      <td>-73.98377</td>\n",
              "      <td>Entire home/apt</td>\n",
              "      <td>225</td>\n",
              "      <td>1</td>\n",
              "      <td>45</td>\n",
              "      <td>2019-05-21</td>\n",
              "      <td>0.38</td>\n",
              "      <td>2</td>\n",
              "      <td>355</td>\n",
              "    </tr>\n",
              "    <tr>\n",
              "      <th>2</th>\n",
              "      <td>3647</td>\n",
              "      <td>THE VILLAGE OF HARLEM....NEW YORK !</td>\n",
              "      <td>4632</td>\n",
              "      <td>Elisabeth</td>\n",
              "      <td>Manhattan</td>\n",
              "      <td>Harlem</td>\n",
              "      <td>40.80902</td>\n",
              "      <td>-73.94190</td>\n",
              "      <td>Private room</td>\n",
              "      <td>150</td>\n",
              "      <td>3</td>\n",
              "      <td>0</td>\n",
              "      <td>NaN</td>\n",
              "      <td>NaN</td>\n",
              "      <td>1</td>\n",
              "      <td>365</td>\n",
              "    </tr>\n",
              "    <tr>\n",
              "      <th>3</th>\n",
              "      <td>3831</td>\n",
              "      <td>Cozy Entire Floor of Brownstone</td>\n",
              "      <td>4869</td>\n",
              "      <td>LisaRoxanne</td>\n",
              "      <td>Brooklyn</td>\n",
              "      <td>Clinton Hill</td>\n",
              "      <td>40.68514</td>\n",
              "      <td>-73.95976</td>\n",
              "      <td>Entire home/apt</td>\n",
              "      <td>89</td>\n",
              "      <td>1</td>\n",
              "      <td>270</td>\n",
              "      <td>2019-07-05</td>\n",
              "      <td>4.64</td>\n",
              "      <td>1</td>\n",
              "      <td>194</td>\n",
              "    </tr>\n",
              "    <tr>\n",
              "      <th>4</th>\n",
              "      <td>5022</td>\n",
              "      <td>Entire Apt: Spacious Studio/Loft by central park</td>\n",
              "      <td>7192</td>\n",
              "      <td>Laura</td>\n",
              "      <td>Manhattan</td>\n",
              "      <td>East Harlem</td>\n",
              "      <td>40.79851</td>\n",
              "      <td>-73.94399</td>\n",
              "      <td>Entire home/apt</td>\n",
              "      <td>80</td>\n",
              "      <td>10</td>\n",
              "      <td>9</td>\n",
              "      <td>2018-11-19</td>\n",
              "      <td>0.10</td>\n",
              "      <td>1</td>\n",
              "      <td>0</td>\n",
              "    </tr>\n",
              "  </tbody>\n",
              "</table>\n",
              "</div>"
            ],
            "text/plain": [
              "     id  ... availability_365\n",
              "0  2539  ...              365\n",
              "1  2595  ...              355\n",
              "2  3647  ...              365\n",
              "3  3831  ...              194\n",
              "4  5022  ...                0\n",
              "\n",
              "[5 rows x 16 columns]"
            ]
          },
          "metadata": {
            "tags": []
          },
          "execution_count": 8
        }
      ]
    },
    {
      "cell_type": "code",
      "metadata": {
        "id": "TqOnYl_U_3sB",
        "colab_type": "code",
        "colab": {
          "base_uri": "https://localhost:8080/",
          "height": 119
        },
        "outputId": "9f075511-7e11-4d7b-832a-3049db7ad6f8"
      },
      "source": [
        "df.neighbourhood_group.value_counts(normalize=True)"
      ],
      "execution_count": null,
      "outputs": [
        {
          "output_type": "execute_result",
          "data": {
            "text/plain": [
              "Manhattan        0.443011\n",
              "Brooklyn         0.411167\n",
              "Queens           0.115881\n",
              "Bronx            0.022313\n",
              "Staten Island    0.007629\n",
              "Name: neighbourhood_group, dtype: float64"
            ]
          },
          "metadata": {
            "tags": []
          },
          "execution_count": 2
        }
      ]
    },
    {
      "cell_type": "code",
      "metadata": {
        "id": "TUEs73VJA3t6",
        "colab_type": "code",
        "colab": {
          "base_uri": "https://localhost:8080/",
          "height": 34
        },
        "outputId": "4f2703be-f603-4145-f85e-94fd87c433fa"
      },
      "source": [
        "len(df.neighbourhood.value_counts())"
      ],
      "execution_count": null,
      "outputs": [
        {
          "output_type": "execute_result",
          "data": {
            "text/plain": [
              "221"
            ]
          },
          "metadata": {
            "tags": []
          },
          "execution_count": 3
        }
      ]
    },
    {
      "cell_type": "code",
      "metadata": {
        "id": "2so17EfKHLdA",
        "colab_type": "code",
        "colab": {
          "base_uri": "https://localhost:8080/",
          "height": 428
        },
        "outputId": "4777d0c8-203a-4fa9-f084-dcd8bc4773b9"
      },
      "source": [
        "df = df[[\"id\",\n",
        "         \"name\",\n",
        "         \"host_id\",\n",
        "         \"neighbourhood_group\",\n",
        "         \"neighbourhood\",\n",
        "         \"latitude\",\n",
        "         \"longitude\",\n",
        "         \"room_type\",\n",
        "         \"minimum_nights\",\n",
        "         \"number_of_reviews\",\n",
        "         \"calculated_host_listings_count\",\n",
        "         \"availability_365\",\n",
        "         \"price\"]]\n",
        "\n",
        "print(df.shape)\n",
        "df.head()"
      ],
      "execution_count": null,
      "outputs": [
        {
          "output_type": "stream",
          "text": [
            "(48895, 13)\n"
          ],
          "name": "stdout"
        },
        {
          "output_type": "execute_result",
          "data": {
            "text/html": [
              "<div>\n",
              "<style scoped>\n",
              "    .dataframe tbody tr th:only-of-type {\n",
              "        vertical-align: middle;\n",
              "    }\n",
              "\n",
              "    .dataframe tbody tr th {\n",
              "        vertical-align: top;\n",
              "    }\n",
              "\n",
              "    .dataframe thead th {\n",
              "        text-align: right;\n",
              "    }\n",
              "</style>\n",
              "<table border=\"1\" class=\"dataframe\">\n",
              "  <thead>\n",
              "    <tr style=\"text-align: right;\">\n",
              "      <th></th>\n",
              "      <th>id</th>\n",
              "      <th>name</th>\n",
              "      <th>host_id</th>\n",
              "      <th>neighbourhood_group</th>\n",
              "      <th>neighbourhood</th>\n",
              "      <th>latitude</th>\n",
              "      <th>longitude</th>\n",
              "      <th>room_type</th>\n",
              "      <th>minimum_nights</th>\n",
              "      <th>number_of_reviews</th>\n",
              "      <th>calculated_host_listings_count</th>\n",
              "      <th>availability_365</th>\n",
              "      <th>price</th>\n",
              "    </tr>\n",
              "  </thead>\n",
              "  <tbody>\n",
              "    <tr>\n",
              "      <th>0</th>\n",
              "      <td>2539</td>\n",
              "      <td>Clean &amp; quiet apt home by the park</td>\n",
              "      <td>2787</td>\n",
              "      <td>Brooklyn</td>\n",
              "      <td>Kensington</td>\n",
              "      <td>40.64749</td>\n",
              "      <td>-73.97237</td>\n",
              "      <td>Private room</td>\n",
              "      <td>1</td>\n",
              "      <td>9</td>\n",
              "      <td>6</td>\n",
              "      <td>365</td>\n",
              "      <td>149</td>\n",
              "    </tr>\n",
              "    <tr>\n",
              "      <th>1</th>\n",
              "      <td>2595</td>\n",
              "      <td>Skylit Midtown Castle</td>\n",
              "      <td>2845</td>\n",
              "      <td>Manhattan</td>\n",
              "      <td>Midtown</td>\n",
              "      <td>40.75362</td>\n",
              "      <td>-73.98377</td>\n",
              "      <td>Entire home/apt</td>\n",
              "      <td>1</td>\n",
              "      <td>45</td>\n",
              "      <td>2</td>\n",
              "      <td>355</td>\n",
              "      <td>225</td>\n",
              "    </tr>\n",
              "    <tr>\n",
              "      <th>2</th>\n",
              "      <td>3647</td>\n",
              "      <td>THE VILLAGE OF HARLEM....NEW YORK !</td>\n",
              "      <td>4632</td>\n",
              "      <td>Manhattan</td>\n",
              "      <td>Harlem</td>\n",
              "      <td>40.80902</td>\n",
              "      <td>-73.94190</td>\n",
              "      <td>Private room</td>\n",
              "      <td>3</td>\n",
              "      <td>0</td>\n",
              "      <td>1</td>\n",
              "      <td>365</td>\n",
              "      <td>150</td>\n",
              "    </tr>\n",
              "    <tr>\n",
              "      <th>3</th>\n",
              "      <td>3831</td>\n",
              "      <td>Cozy Entire Floor of Brownstone</td>\n",
              "      <td>4869</td>\n",
              "      <td>Brooklyn</td>\n",
              "      <td>Clinton Hill</td>\n",
              "      <td>40.68514</td>\n",
              "      <td>-73.95976</td>\n",
              "      <td>Entire home/apt</td>\n",
              "      <td>1</td>\n",
              "      <td>270</td>\n",
              "      <td>1</td>\n",
              "      <td>194</td>\n",
              "      <td>89</td>\n",
              "    </tr>\n",
              "    <tr>\n",
              "      <th>4</th>\n",
              "      <td>5022</td>\n",
              "      <td>Entire Apt: Spacious Studio/Loft by central park</td>\n",
              "      <td>7192</td>\n",
              "      <td>Manhattan</td>\n",
              "      <td>East Harlem</td>\n",
              "      <td>40.79851</td>\n",
              "      <td>-73.94399</td>\n",
              "      <td>Entire home/apt</td>\n",
              "      <td>10</td>\n",
              "      <td>9</td>\n",
              "      <td>1</td>\n",
              "      <td>0</td>\n",
              "      <td>80</td>\n",
              "    </tr>\n",
              "  </tbody>\n",
              "</table>\n",
              "</div>"
            ],
            "text/plain": [
              "     id  ... price\n",
              "0  2539  ...   149\n",
              "1  2595  ...   225\n",
              "2  3647  ...   150\n",
              "3  3831  ...    89\n",
              "4  5022  ...    80\n",
              "\n",
              "[5 rows x 13 columns]"
            ]
          },
          "metadata": {
            "tags": []
          },
          "execution_count": 9
        }
      ]
    },
    {
      "cell_type": "code",
      "metadata": {
        "id": "RoUhHLvhA_Gc",
        "colab_type": "code",
        "colab": {
          "base_uri": "https://localhost:8080/",
          "height": 317
        },
        "outputId": "19b2bb2f-5dc3-4813-fbc6-2f1879a7c735"
      },
      "source": [
        "df.drop(columns=\"id\").describe()"
      ],
      "execution_count": null,
      "outputs": [
        {
          "output_type": "execute_result",
          "data": {
            "text/html": [
              "<div>\n",
              "<style scoped>\n",
              "    .dataframe tbody tr th:only-of-type {\n",
              "        vertical-align: middle;\n",
              "    }\n",
              "\n",
              "    .dataframe tbody tr th {\n",
              "        vertical-align: top;\n",
              "    }\n",
              "\n",
              "    .dataframe thead th {\n",
              "        text-align: right;\n",
              "    }\n",
              "</style>\n",
              "<table border=\"1\" class=\"dataframe\">\n",
              "  <thead>\n",
              "    <tr style=\"text-align: right;\">\n",
              "      <th></th>\n",
              "      <th>host_id</th>\n",
              "      <th>latitude</th>\n",
              "      <th>longitude</th>\n",
              "      <th>minimum_nights</th>\n",
              "      <th>number_of_reviews</th>\n",
              "      <th>calculated_host_listings_count</th>\n",
              "      <th>availability_365</th>\n",
              "      <th>price</th>\n",
              "    </tr>\n",
              "  </thead>\n",
              "  <tbody>\n",
              "    <tr>\n",
              "      <th>count</th>\n",
              "      <td>4.889500e+04</td>\n",
              "      <td>48895.000000</td>\n",
              "      <td>48895.000000</td>\n",
              "      <td>48895.000000</td>\n",
              "      <td>48895.000000</td>\n",
              "      <td>48895.000000</td>\n",
              "      <td>48895.000000</td>\n",
              "      <td>48895.000000</td>\n",
              "    </tr>\n",
              "    <tr>\n",
              "      <th>mean</th>\n",
              "      <td>6.762001e+07</td>\n",
              "      <td>40.728949</td>\n",
              "      <td>-73.952170</td>\n",
              "      <td>7.029962</td>\n",
              "      <td>23.274466</td>\n",
              "      <td>7.143982</td>\n",
              "      <td>112.781327</td>\n",
              "      <td>152.720687</td>\n",
              "    </tr>\n",
              "    <tr>\n",
              "      <th>std</th>\n",
              "      <td>7.861097e+07</td>\n",
              "      <td>0.054530</td>\n",
              "      <td>0.046157</td>\n",
              "      <td>20.510550</td>\n",
              "      <td>44.550582</td>\n",
              "      <td>32.952519</td>\n",
              "      <td>131.622289</td>\n",
              "      <td>240.154170</td>\n",
              "    </tr>\n",
              "    <tr>\n",
              "      <th>min</th>\n",
              "      <td>2.438000e+03</td>\n",
              "      <td>40.499790</td>\n",
              "      <td>-74.244420</td>\n",
              "      <td>1.000000</td>\n",
              "      <td>0.000000</td>\n",
              "      <td>1.000000</td>\n",
              "      <td>0.000000</td>\n",
              "      <td>0.000000</td>\n",
              "    </tr>\n",
              "    <tr>\n",
              "      <th>25%</th>\n",
              "      <td>7.822033e+06</td>\n",
              "      <td>40.690100</td>\n",
              "      <td>-73.983070</td>\n",
              "      <td>1.000000</td>\n",
              "      <td>1.000000</td>\n",
              "      <td>1.000000</td>\n",
              "      <td>0.000000</td>\n",
              "      <td>69.000000</td>\n",
              "    </tr>\n",
              "    <tr>\n",
              "      <th>50%</th>\n",
              "      <td>3.079382e+07</td>\n",
              "      <td>40.723070</td>\n",
              "      <td>-73.955680</td>\n",
              "      <td>3.000000</td>\n",
              "      <td>5.000000</td>\n",
              "      <td>1.000000</td>\n",
              "      <td>45.000000</td>\n",
              "      <td>106.000000</td>\n",
              "    </tr>\n",
              "    <tr>\n",
              "      <th>75%</th>\n",
              "      <td>1.074344e+08</td>\n",
              "      <td>40.763115</td>\n",
              "      <td>-73.936275</td>\n",
              "      <td>5.000000</td>\n",
              "      <td>24.000000</td>\n",
              "      <td>2.000000</td>\n",
              "      <td>227.000000</td>\n",
              "      <td>175.000000</td>\n",
              "    </tr>\n",
              "    <tr>\n",
              "      <th>max</th>\n",
              "      <td>2.743213e+08</td>\n",
              "      <td>40.913060</td>\n",
              "      <td>-73.712990</td>\n",
              "      <td>1250.000000</td>\n",
              "      <td>629.000000</td>\n",
              "      <td>327.000000</td>\n",
              "      <td>365.000000</td>\n",
              "      <td>10000.000000</td>\n",
              "    </tr>\n",
              "  </tbody>\n",
              "</table>\n",
              "</div>"
            ],
            "text/plain": [
              "            host_id      latitude  ...  availability_365         price\n",
              "count  4.889500e+04  48895.000000  ...      48895.000000  48895.000000\n",
              "mean   6.762001e+07     40.728949  ...        112.781327    152.720687\n",
              "std    7.861097e+07      0.054530  ...        131.622289    240.154170\n",
              "min    2.438000e+03     40.499790  ...          0.000000      0.000000\n",
              "25%    7.822033e+06     40.690100  ...          0.000000     69.000000\n",
              "50%    3.079382e+07     40.723070  ...         45.000000    106.000000\n",
              "75%    1.074344e+08     40.763115  ...        227.000000    175.000000\n",
              "max    2.743213e+08     40.913060  ...        365.000000  10000.000000\n",
              "\n",
              "[8 rows x 8 columns]"
            ]
          },
          "metadata": {
            "tags": []
          },
          "execution_count": 10
        }
      ]
    },
    {
      "cell_type": "code",
      "metadata": {
        "id": "87RBy72KSFud",
        "colab_type": "code",
        "colab": {
          "base_uri": "https://localhost:8080/",
          "height": 34
        },
        "outputId": "c4d88eb5-91a0-4569-c27c-4ce177758165"
      },
      "source": [
        "from sklearn.feature_extraction.text import TfidfVectorizer\n",
        "\n",
        "# Testing TfidfVectorizer\n",
        "corpus = [\n",
        "          'This is the first document.',\n",
        "          'This document is the second document.',\n",
        "          'And this is the third one.',\n",
        "          'Is this the first document?',\n",
        "          ]\n",
        "\n",
        "# Instantiate\n",
        "vectorizer = TfidfVectorizer()\n",
        "# Fit\n",
        "X = vectorizer.fit_transform(corpus)\n",
        "# CHECK:\n",
        "print(vectorizer.get_feature_names())"
      ],
      "execution_count": null,
      "outputs": [
        {
          "output_type": "stream",
          "text": [
            "['and', 'document', 'first', 'is', 'one', 'second', 'the', 'third', 'this']\n"
          ],
          "name": "stdout"
        }
      ]
    },
    {
      "cell_type": "code",
      "metadata": {
        "id": "KHLSx_giY-qT",
        "colab_type": "code",
        "colab": {
          "base_uri": "https://localhost:8080/",
          "height": 68
        },
        "outputId": "b782d56f-9c88-470e-b347-79784760b4f9"
      },
      "source": [
        "# Type Check\n",
        "type(X), X"
      ],
      "execution_count": null,
      "outputs": [
        {
          "output_type": "execute_result",
          "data": {
            "text/plain": [
              "(scipy.sparse.csr.csr_matrix,\n",
              " <4x9 sparse matrix of type '<class 'numpy.float64'>'\n",
              " \twith 21 stored elements in Compressed Sparse Row format>)"
            ]
          },
          "metadata": {
            "tags": []
          },
          "execution_count": 12
        }
      ]
    },
    {
      "cell_type": "code",
      "metadata": {
        "id": "HyVOaqP4SZKE",
        "colab_type": "code",
        "colab": {
          "base_uri": "https://localhost:8080/",
          "height": 374
        },
        "outputId": "63ca8f8c-0b2a-4a46-b5ef-a9094699b90d"
      },
      "source": [
        "# CHECK:\n",
        "for value in X:\n",
        "  print(value)"
      ],
      "execution_count": null,
      "outputs": [
        {
          "output_type": "stream",
          "text": [
            "  (0, 1)\t0.46979138557992045\n",
            "  (0, 2)\t0.5802858236844359\n",
            "  (0, 6)\t0.38408524091481483\n",
            "  (0, 3)\t0.38408524091481483\n",
            "  (0, 8)\t0.38408524091481483\n",
            "  (0, 5)\t0.5386476208856763\n",
            "  (0, 1)\t0.6876235979836938\n",
            "  (0, 6)\t0.281088674033753\n",
            "  (0, 3)\t0.281088674033753\n",
            "  (0, 8)\t0.281088674033753\n",
            "  (0, 4)\t0.511848512707169\n",
            "  (0, 7)\t0.511848512707169\n",
            "  (0, 0)\t0.511848512707169\n",
            "  (0, 6)\t0.267103787642168\n",
            "  (0, 3)\t0.267103787642168\n",
            "  (0, 8)\t0.267103787642168\n",
            "  (0, 1)\t0.46979138557992045\n",
            "  (0, 2)\t0.5802858236844359\n",
            "  (0, 6)\t0.38408524091481483\n",
            "  (0, 3)\t0.38408524091481483\n",
            "  (0, 8)\t0.38408524091481483\n"
          ],
          "name": "stdout"
        }
      ]
    },
    {
      "cell_type": "code",
      "metadata": {
        "id": "cchjsnq3bEvV",
        "colab_type": "code",
        "colab": {
          "base_uri": "https://localhost:8080/",
          "height": 51
        },
        "outputId": "2777e96f-4bf4-4e34-8caf-fe2102e42785"
      },
      "source": [
        "import numpy as np\n",
        "\n",
        "# Cleaning and Null Check\n",
        "df.name = df.name.replace(np.nan, \"\")\n",
        "df.name.isnull().value_counts()"
      ],
      "execution_count": null,
      "outputs": [
        {
          "output_type": "execute_result",
          "data": {
            "text/plain": [
              "False    48895\n",
              "Name: name, dtype: int64"
            ]
          },
          "metadata": {
            "tags": []
          },
          "execution_count": 14
        }
      ]
    },
    {
      "cell_type": "code",
      "metadata": {
        "id": "gli7WKaktTaA",
        "colab_type": "code",
        "colab": {
          "base_uri": "https://localhost:8080/",
          "height": 51
        },
        "outputId": "b4c27f39-c727-420b-c287-6b04de2e4ef3"
      },
      "source": [
        "# 'name' to list\n",
        "names = list(df.name)\n",
        "\n",
        "# CHECK:\n",
        "print(len(names))\n",
        "type(names[0]), names[0]"
      ],
      "execution_count": null,
      "outputs": [
        {
          "output_type": "stream",
          "text": [
            "48895\n"
          ],
          "name": "stdout"
        },
        {
          "output_type": "execute_result",
          "data": {
            "text/plain": [
              "(str, 'Clean & quiet apt home by the park')"
            ]
          },
          "metadata": {
            "tags": []
          },
          "execution_count": 15
        }
      ]
    },
    {
      "cell_type": "code",
      "metadata": {
        "id": "_BGR3MzIaw69",
        "colab_type": "code",
        "colab": {
          "base_uri": "https://localhost:8080/",
          "height": 71
        },
        "outputId": "5fa79ae4-56f7-460e-b07e-506d1b530830"
      },
      "source": [
        "# Fit Transform\n",
        "dtm = vectorizer.fit_transform(names)\n",
        "\n",
        "# CHECK:\n",
        "print(len(vectorizer.get_feature_names()))\n",
        "print(vectorizer.get_feature_names())"
      ],
      "execution_count": null,
      "outputs": [
        {
          "output_type": "stream",
          "text": [
            "8057\n",
            "['00', '000', '000sf', '000sqft', '001', '001ll', '002', '003', '004', '005', '01', '01401', '02', '03', '04', '05', '0min', '10', '100', '1000', '1000sq', '1000sqf', '10017', '100mbps', '100th', '101', '102', '10222', '10223', '10226', '10248', '10250', '10253', '10256', '10257', '10262', '10263', '10264', '10268', '10273', '10288', '10292', '10294', '10296', '10298', '10299', '10299b', '103', '10303', '10304', '10305', '10307', '10309', '10313', '103rd', '105', '105th', '106th', '107', '107th', '108', '108th', '10br', '10ft', '10jfk', '10m', '10mi', '10million', '10min', '10minlga', '10mins', '10minto', '10mintolga', '10minute', '10minutes', '10mn', '10pl', '10pm', '10ppl', '10secs', '10th', '10交通便利', '10畳', '11', '1100', '1100sf', '110th', '111', '111th', '11211', '11220', '11231', '11369', '113th', '115', '1150', '116', '116th', '117st', '118th', '11a', '11ft', '11minutes', '11pm', '11th', '12', '1200', '1200ft²', '1200sf', '1200sq', '1200sqf', '1200sqft', '1205', '124', '125', '125th', '127', '127st', '129', '129th', '12al', '12ar', '12days', '12min', '12minny', '12mins', '12mintony', '12minutes', '12st', '12th', '12x12', '12x14', '13', '130', '1300', '135', '1350', '1355', '136', '1393', '13ft', '13th', '13x17', '14', '1400', '1400sf', '1400sqft', '141', '141st', '142', '143', '1450', '145st', '145th', '149per', '14ft', '14th', '14x16ft', '15', '150', '1500', '1500sf', '1500sq', '150ft2', '150ft²', '150mb', '150sf', '159', '15ft', '15m', '15min', '15minmanhattan', '15mins', '15mintocity', '15mintomidtown', '15minutes', '15mns', '15mnts', '15mntstotimesq', '15r', '15th', '15tonyc', '15分钟到纽约城市广场', '16', '1600', '1600sf', '160th', '162st', '1630', '166', '1661sft', '167th', '168th', '16min', '16th', '17', '170', '1700sf', '1700sqf', '1718三人房', '1718公馆套房', '1718双个房', '172', '175ft', '1760', '177st', '177th', '1785', '179st', '17m', '17min', '17mins', '18', '180', '1800', '1800ft²', '1800sf', '180º', '181', '1820', '183', '184st', '1850', '1860', '1865', '1870', '1875', '1876', '1879', '1881', '1882', '1885', '1889', '1890', '1890s', '1892', '1896', '1897', '1899', '18ft', '18jan', '18m', '18min', '18mins', '18th', '19', '190', '1900', '1900s', '1908', '1910', '1920', '1920s', '1925', '1940', '195m²', '1976', '199', '19mins', '19minutes', '19th', '19分钟肯尼迪机场', '1a', '1ac', '1ample', '1ave', '1b', '1b1b', '1ba', '1bar', '1bath', '1bd', '1bdr', '1bdrm', '1bdroom', '1beautiful', '1bed', '1bed1bath', '1bedroom', '1bedroomliving', '1blk', '1block', '1block7train', '1br', '1br_heart', '1brd', '1brm', '1brooklyn', '1bth', '1c', '1comfortable', '1cosy', '1cozy', '1d', '1day', '1delightful', '1dynamic', '1f', '1fl', '1floor', '1full', '1great', '1hr', '1k', '1l', '1loft', '1master', '1min', '1mn', '1mth', '1office', '1omin', '1or2', '1or2people', '1private', '1queen', '1r', '1rw', '1st', '1stop', '1twin', '1very', '1x', '20', '200', '2000', '2000sf', '2000sq', '2000sqf', '2000sqft', '2000呎', '200sf', '200sq', '201', '2010', '2013', '2014', '2015', '2017', '2018', '2018serenity', '2019', '202', '203', '204', '205', '206', '208', '20ft', '20m', '20min', '20min2manhattan', '20minjfk', '20mins', '20mintomanhattan', '20minutes', '20mn', '20mns', '20mnts', '20ms', '20steps', '21', '211', '215m', '21b1', '21b2', '21b3', '21b4', '21min', '21st', '21街', '22', '2200ft²', '2200sf', '2254', '226', '22b', '22m', '22min', '22nd', '23', '2300sqft', '2345', '23b1', '23b2', '23b3', '23b4', '23d', '23min', '23rd', '24', '2400', '249', '24dec', '24h', '24hr', '24hrdrm', '24hrs', '24th', '25', '250', '2500', '2500sf', '2500sq', '25daysmin', '25m', '25min', '25mins', '25minutes', '25mntimesquare', '25th', '26', '26flr', '26th', '27', '2700', '2750', '27th', '28', '280', '2800', '28mins', '28th', '29', '29fl', '29th', '2a', '2abajo', '2b', '2b1b', '2b1ba', '2b2b', '2ba', '2bat', '2bath', '2bathr', '2bathrm', '2bathroom', '2baths', '2bd', '2bdm', '2bdr', '2bdrm', '2bdrmpresidential', '2bdrms', '2bdroom', '2bdrs', '2bds', '2bed', '2bedapt', '2bedr', '2bedrm', '2bedroom', '2bedroomapart', '2bedrooms', '2beds', '2beds2baths', '2bh', '2bhk', '2blks', '2block', '2blocks', '2br', '2br1b', '2br2b', '2br2ba', '2brm', '2brs', '2bs', '2bt', '2bth', '2bths', '2c', '2d', '2day', '2e', '2f', '2feet', '2fireplcs', '2fl', '2floor', '2flr', '2full', '2gr', '2gsts', '2guest', '2guests', '2k', '2l', '2l2r', '2mb', '2min', '2mins', '2mintotrainscozylivingroommaimonidelutheranhospita', '2mintotrainsnicermaimonideslutheranindustrycity', '2mintrainbigbeautyrmaimolutherandindustrycitty', '2mintrainlovelyrmaimonideslutheranindustrycity', '2mn', '2momacentral', '2nd', '2or3', '2p', '2peop', '2people', '2persons', '2ppl', '2q', '2queen', '2r', '2r2l3r3l', '2re', '2rms', '2rooms', '2rw', '2sl', '2sr', '2stop', '2story4bedroom', '2sub', '2t', '2train', '2union', '2x', '2名個室', '2名女生', '2房1卫', '2部屋でのｼｪｱ', '2인실', '30', '300', '3000', '3000sf', '300ft', '300sf', '300sqft', '301', '302', '303', '305', '306', '307', '30day', '30days', '30fl', '30jfk', '30lga', '30m', '30m2nyc', '30max', '30min', '30min2', '30min2timessqr', '30minjfk', '30mins', '30mn', '30sec', '30st', '30th', '30美元一天', '31', '315', '318', '31c1', '31c2', '31c3', '31c4', '31st', '32', '3200', '3200sf', '320square', '32b', '32c', '32nd', '33', '3333', '3333broadway近哥大电梯公寓大楼', '33c1', '33c2', '33c3', '33c4', '33rd', '33th', '34', '34a', '34th', '35', '3500', '350sqf', '352', '35ft', '35m', '35min', '35mins', '35minutes', '35minutestodowntown', '35th', '36', '360', '36fl', '37', '370', '37th', '37thnyc', '38th', '391', '39th', '3a', '3av', '3ave', '3b', '3b2b', '3ba', '3bath', '3bd', '3bdm', '3bdr', '3bdrm', '3bds', '3bed', '3bedrm', '3bedrms', '3bedroom', '3beds', '3block', '3blocks', '3br', '3br2ba', '3br2bath', '3brs', '3bthrm', '3c', '3d', '3f', '3fl', '3flr', '3flrs', '3fr', '3gr', '3l', '3mb', '3min', '3mins', '3minwalktotrain', '3months', '3people', '3person', '3ppl', '3r', '3r3l', '3rd', '3re', '3rw', '3windows', '3人温馨小屋', '40', '400', '4000', '4000sqft', '400sqft', '401', '402', '40lg', '40th', '41', '41d1', '41d2', '41d3', '41d4', '42', '420', '420friendly', '423', '428', '42d', '42nd', '42ndflr', '42st', '43', '439', '43ave', '43d1', '43d3', '43d4', '43rd', '44', '442', '443', '44stdoorman', '44th', '45', '450', '4500', '4500sqft', '450ft', '450sqft', '455', '45min', '45nyccozy', '45pm', '45th', '45街阳光主卧7月短租', '46st', '46th', '47', '478', '47th', '48', '48th', '490', '4_3', '4a', '4b', '4b4b', '4ba', '4bath', '4bd', '4bdr', '4bdrm', '4bed', '4bedrm', '4bedroom', '4bedrooms', '4beds', '4br', '4brs', '4bth', '4c', '4d', '4e', '4f', '4family', '4fe', '4fl', '4floor', '4gr', '4js', '4k', '4l', '4ledy', '4mb', '4min', '4mins', '4p', '4pp', '4ppl', '4queen', '4r', '4rm', '4rw', '4sl', '4sr', '4story', '4th', '4tiny', '4u', '4you', '50', '500', '500sf', '500sqft', '501', '5019', '50m', '50p', '50s', '50th', '50to', '51', '5100', '5107', '5108', '5109', '5111', '5112', '5113', '5119', '5120', '5126', '5128', '5129', '5131', '5132', '5133', '5134', '5135', '5136', '5138', '5140', '5143', '5144', '5145', '5146', '5149', '5150', '5151', '5152', '5155', '5160', '5161', '5163', '5167', '5168', '5170', '5171', '5173', '5174', '5175', '5176', '5177', '5178', '5179', '5180', '5182', '5183', '5186', '5187', '5188', '5191', '5192', '5193', '5194', '5195', '5196', '5197', '5198', '5199', '51b', '51e1', '51e2', '51e3', '51e4', '51st', '52', '5200', '5203', '5204', '5205', '5206', '5207', '5208', '5211', '5212', '5213', '5217', '5218', '5219', '5220', '5221', '5222', '5223', '5224', '5225', '5226', '5227', '5229', '5230', '5231', '5232', '5234', '5235', '5236', '5237', '5238', '5239', '5240', '5241', '5242', '5243', '5247', '525', '52b', '52c', '52d', '52e', '52nd', '52st', '53', '539', '53b', '53c', '53d', '53e1', '53e2', '53e3', '53e4', '53rd', '54', '540', '54b', '54c', '54d', '54th', '55', '550', '55b', '55fl', '55th', '56', '56th', '57', '57st', '57th', '58', '585', '588a', '58th', '59', '59th', '5a', '5b', '5ba', '5bath', '5baths', '5bd', '5bdrm', '5bed', '5bedrm', '5bedroom', '5beds', '5br', '5bth', '5c', '5d', '5k', '5line', '5m', '5min', '5min2centralpark', '5mins', '5minslga', '5mintrainsmallsmallcozyroomindustrycitylutheranh', '5minutes', '5mn', '5o', '5ppl', '5r', '5star', '5th', '5thave', '5train', '5w', '5分钟main', '5分钟到西59', '5月31日', '60', '600', '6000sq', '600sq', '602', '60nyc', '60s', '60th', '61', '6104', '6105', '6107', '6108', '6109', '611', '6110', '6111', '6112', '6113', '6114', '6115', '6116', '6117', '6118', '6119', '6120', '6121', '6122', '6123', '6124', '6125', '6126', '6127', '6128', '6129', '6130', '6131', '6132', '6133', '61f1', '61f2', '61f3', '61st', '62', '627', '62f', '62nd', '63', '637', '63f2', '63f3', '63f4', '63rd', '64', '64th', '65', '650', '650sqf', '65th', '66th', '66地铁站', '67', '675sg', '68', '686', '68st', '68th', '69st', '69th', '6a', '6ba', '6bd', '6bdrm', '6bed', '6beds', '6br', '6ft', '6m', '6mi', '6min', '6mintrainbackroom', '6mintrainlivingroommaimonideslutheranindustrycity', '6mintrainmasterroom', '6mintrainscozysmallrmaimonideslutheranindustrycity', '6month', '6ppl', '6r', '6rs', '6th', '6train', '70', '700', '700sf', '700sqft', '70ko', '70s', '71', '715', '71b', '71c', '71st', '71w', '72', '72b', '72c', '72nd', '73', '73a', '73b', '73c', '74', '740', '74b', '74st', '74th', '75', '750', '750sqft', '75m2', '76', '77', '775', '78st', '78th', '79', '79reviews', '79th', '7a', '7bd', '7beds', '7br', '7c', '7d', '7day', '7e', '7even', '7min', '7mins', '7minutessubway', '7minutestosubway', '7mn', '7th', '7train', '7分钟拉瓜迪机场', '7月31日', '80', '800', '800sq', '800sqft', '80min', '80s', '80th', '81', '811', '82', '82nd', '83', '83rd', '84', '845', '84th', '85', '850', '85th', '86', '860', '86th', '87st', '87st304', '87th', '88', '889', '88th', '89', '89th', '8a', '8br', '8m', '8min', '8mins', '8minute', '8th', '90', '900', '900ft', '900ft²', '900mb', '900sf', '90m2', '90s', '91st', '92nd', '93', '94th', '950', '950sf', '95th', '96', '96st', '96th', '97', '974sf', '980', '98th', '99', '9a', '9am', '9b', '9bd', '9guests', '9min', '9mins', '9mts', '9pm', '9th', '_special', 'a1', 'a140', 'a142', 'a144', 'a1long', 'a2', 'a268', 'a2long', 'a3', 'a3small', 'a4long', 'aa', 'aaa', 'ab', 'abc', 'abcd', 'abducens', 'abigail', 'able', 'aboard', 'abode', 'about', 'above', 'absolute', 'absolutely', 'abundance', 'abundant', 'ac', 'academic', 'academy', 'acadia', 'accent', 'acces', 'access', 'accessible', 'accessibly', 'accomadation', 'accomadations', 'accommodate', 'accommodates', 'accommodating', 'accommodation', 'accommodations', 'accomodates', 'accomodating', 'accomodation', 'accomodations', 'accomplished', 'ace', 'acess', 'achingly', 'acidotic', 'acintheroom', 'acogedor', 'acogedora', 'acolhedor', 'across', 'acs', 'action', 'active', 'activist', 'activists', 'activities', 'actor', 'ad', 'ada', 'add', 'addisleigh', 'additional', 'additions', 'address', 'addtn', 'adelphi', 'adjacent', 'adjoined', 'adjoining', 'adjustable', 'adorable', 'adorbable', 'adr', 'adrian', 'adult', 'adultos', 'adults', 'adventure', 'adventurer', 'adventures', 'adventurous', 'aerie', 'aeropuerto', 'aery', 'aesthetically', 'af', 'affair', 'affluent', 'affordable', 'affordably', 'african', 'afrique', 'after', 'ag', 'again', 'agate', 'age', 'ageloff', 'agreement', 'aiden', 'aiport', 'air', 'airbed', 'airbnb', 'aircon', 'airline', 'airporst', 'airport', 'airports', 'airpt', 'airtrain', 'airway', 'airy', 'aka', 'akouaba', 'akua', 'al', 'albans', 'albany', 'alchemy', 'alcove', 'ale', 'alert', 'alex', 'alexa', 'alexander', 'alfred', 'alia', 'alisha', 'alive', 'all', 'alley', 'alluring', 'allyours', 'almost', 'almostempty', 'aloft', 'alojamiento', 'alone', 'along', 'alpha', 'alphabet', 'alphabety', 'alphbet', 'already', 'also', 'alt', 'alternative', 'alvarez', 'alvoce', 'always', 'am', 'amaizing', 'amanecer', 'amazin', 'amazing', 'amazingly', 'amber', 'ambiance', 'ambient', 'ambiente', 'ameluz', 'amenable', 'ameneties', 'amenities', 'amenity', 'amenties', 'america', 'american', 'americana', 'amidst', 'amis', 'ammenities', 'amminities', 'amnetities', 'amnh', 'among', 'amongst', 'amount', 'amphitheat', 'ample', 'amplia', 'amplio', 'amsterdam', 'an', 'analog', 'anchor', 'anchorage', 'and', 'andairport', 'anderson', 'andrea', 'andrew', 'andy', 'angel', 'angela', 'angeles', 'angelina', 'angels', 'angie', 'angus', 'animal', 'anita', 'anna', 'anny', 'another', 'anthropology', 'antique', 'antiques', 'antonio', 'any', 'anywhere', 'ap', 'apaprtment', 'aparment', 'aparmtent', 'apart', 'apartament', 'apartamento', 'apartement', 'apartent', 'apartm', 'apartmant', 'apartmen', 'apartment', 'apartment535', 'apartment_1', 'apartments', 'apartmet', 'apartmnet', 'apartmnt', 'apartmt', 'apatite', 'apatment', 'apatments', 'apmnt', 'apmt', 'apollo', 'app', 'appartament', 'appartamento', 'appartement', 'appartment', 'appeal', 'apple', 'appliances', 'appointed', 'appointment', 'appropriated', 'approx', 'appt', 'apr', 'april', 'aprt', 'aprtment', 'aprtmnt', 'aprtmt', 'apt', 'apt1b', 'apt1bd', 'apt2', 'apt3', 'apt30', 'aptartment', 'aptin', 'aptm', 'aptmnt', 'aptmt', 'apto', 'apton', 'apts', 'aqua', 'aquamarine', 'arcade', 'architect', 'architects', 'architectural', 'architecturally', 'archive', 'are', 'area', 'areaofbushwick', 'areas', 'argyle', 'aria', 'ariel', 'army', 'around', 'arprt', 'arpt', 'arriba', 'art', 'artesian', 'artful', 'artfully', 'arthur', 'artisitic', 'artist', 'artistic', 'artistloft', 'artists', 'artpad', 'arts', 'artscene', 'artsist', 'artspace', 'artstuy', 'artsy', 'artwork', 'arty', 'art双层屋', 'arverne', 'as', 'ascending', 'ash', 'ashe', 'ashes', 'ashly', 'ask', 'aspca', 'ass', 'assemblage', 'assembly', 'asshur', 'assistance', 'assured', 'astonishing', 'astor', 'astoria', 'astoria10mins', 'astoria20mintomanhattan', 'astorian', 'astorians', 'astorias', 'astounding', 'astória', 'at', 'at59th', 'atelier', 'athenas', 'ation', 'atlantic', 'atmosphere', 'atrain', 'attached', 'attch', 'attendant', 'attic', 'attraction', 'attractions', 'attractionsღღღ', 'attractive', 'au', 'aua', 'auburndale', 'auc', 'auditorium', 'audrey', 'audubon', 'aug', 'august', 'aura', 'austin', 'australian', 'authentic', 'authority', 'authors', 'autumn', 'av', 'avail', 'availabl', 'available', 'availablity', 'avaliable', 'avalon', 'avant', 'avbl', 'ave', 'avec', 'avenida', 'aventureras', 'aventurine', 'avenue', 'average', 'avery', 'aves', 'avl', 'avlble', 'await', 'awaits', 'award', 'away', 'awesome', 'awesomely', 'awsome', 'ayo', 'ayos', 'aysgarth', 'azalea', 'aziza', 'azul', 'azur', 'a套房私享一层closed', 'b1', 'b16', 'b1cozy', 'b2', 'b3', 'b35', 'b4', 'b5', 'b6', 'ba', 'baby', 'babygrand', 'bachelor', 'bachelorette', 'back', 'backhouse', 'backpacker', 'backpackers', 'backpacking', 'backyard', 'baclony', 'bad', 'bagel', 'bahia', 'bain', 'baisley', 'baja', 'bajaron', 'bakery', 'balc', 'balconies', 'balcony', 'balconygym', 'ball', 'ballet', 'ballroom', 'balocony', 'baltic', 'bam', 'bamako', 'bamboo', 'bangladeshis', 'banks', 'bar', 'barbara', 'barcalys', 'barclay', 'barclays', 'bare', 'bargain', 'barn', 'barnabas', 'barnabashospital', 'barnard', 'barrett', 'barrio', 'bars', 'baruch', 'base', 'baseball', 'basecamp', 'based', 'basement', 'basementsolo', 'basemnt', 'basic', 'basically', 'basin', 'bask', 'basket', 'basketball', 'basquiat', 'bath', 'bath_nearsubway_3', 'bathed', 'bathlgametstimesqustaflushingqueens', 'bathoom', 'bathr', 'bathrm', 'bathrms', 'bathroom', 'bathrooms', 'baths', 'bathtub', 'bathwash', 'battery', 'bauhinia', 'bay', 'bayfront', 'baynefamilywithlove', 'bayridge', 'bayroom', 'bayside', 'bayswater', 'bayview', 'bb', 'bbg', 'bbnb', 'bboho', 'bbq', 'bbqs', 'bbs', 'bc', 'bckyard', 'bckyrd', 'bd', 'bday', 'bdfm', 'bdfmjz', 'bdg', 'bdm', 'bdms', 'bdoom', 'bdr', 'bdrm', 'bdrms', 'bdrmsoho', 'bdrmunion', 'bdrom', 'bdroom', 'bdrs', 'bds', 'bdway', 'bdwy', 'be', 'beach', 'beaches', 'beachfront', 'beachside', 'beachy', 'beam', 'bear', 'beat', 'beaten', 'beatiful', 'beating', 'beatuful', 'beauitful', 'beaut', 'beautifu', 'beautiful', 'beautifull', 'beautifully', 'beautifulroom', 'beautlful', 'beauty', 'bebop', 'because', 'beckoning', 'become', 'bed', 'bed1', 'bed_3', 'bed_plush', 'bedded', 'bedfd', 'bedford', 'bedfordsub', 'bedloft', 'bedm', 'bedoom', 'bedr', 'bedrm', 'bedrms', 'bedro', 'bedrom', 'bedroo', 'bedroom', 'bedroom1', 'bedroom2', 'bedroom3', 'bedroom5179', 'bedroom_williamsburg', 'bedroomapt', 'bedroomm', 'bedrooms', 'bedrooom', 'bedrose', 'bedrrom', 'bedrroms', 'beds', 'bedspace', 'bedstay', 'bedstuy', 'bedstuybeauty', 'bedstuyvesant', 'bedsty', 'bedtime', 'bedtsuy', 'bedw', 'bee', 'beedroom', 'beekman', 'been', 'beer', 'before', 'beginning', 'begins', 'behind', 'beige', 'being', 'bel', 'belaire', 'believers', 'belindas', 'bella', 'belle', 'belleharbor', 'bellerose', 'bellevue', 'bellissima', 'bellrose', 'belltower', 'belmont', 'belo', 'beloved', 'below', 'belvedere', 'ben', 'benefit', 'benefits', 'bensonhurst', 'benz', 'berg', 'bergen', 'berm', 'berry', 'beside', 'besides', 'bespoke', 'best', 'bestofbrooklyn', 'bestvalue', 'bet', 'beth', 'bethel', 'betsaida', 'betta', 'better', 'between', 'beuty', 'beverley', 'beverly', 'beyond', 'bhakti', 'bhroom', 'bi', 'bianchi', 'bibis', 'bicycle', 'bidet', 'bienvenidos', 'bienvenue', 'big', 'bigger', 'biggest', 'biggie', 'bight', 'bigroom', 'bigterrace', 'bijou', 'bike', 'bikes', 'bilevel', 'billburg', 'billion', 'billionaires', 'biltmore', 'bio', 'biodome', 'bird', 'birdcage', 'birdman', 'birds', 'birdsnest', 'birth', 'bitchin', 'biutiful', 'bk', 'bk3', 'bkfst', 'bkft', 'bkh', 'bkln', 'bklyn', 'bkny', 'bkyard', 'bkyd', 'bl', 'blair', 'blake', 'blanca', 'blazin', 'blck', 'bld', 'bldg', 'blding', 'bldng', 'bleecker', 'blend', 'blessed', 'blessings', 'bleu', 'blg', 'blisfull', 'bliss', 'blissartsspace', 'blissful', 'blissfully', 'blk', 'blks', 'block', 'blocks', 'blogger', 'bloom', 'bloomies', 'bloomingdale', 'bloomingdales', 'bloques', 'blossom', 'blossomboudoir', 'blowup', 'blox', 'blu', 'blue', 'blueberries', 'bluebird', 'blueground', 'blues', 'blush', 'blvd', 'blyn', 'bm', 'bnb', 'board', 'boarder', 'boarding', 'boasts', 'boat', 'bocci', 'bococa', 'bodacious', 'boerum', 'bogart', 'bogro', 'bohemia', 'bohemian', 'boho', 'bohème', 'bohéme', 'bohême', 'bold', 'boldera', 'bon', 'bond', 'bondtastic', 'bones', 'bonito', 'bonus', 'boogie', 'book', 'bookcase', 'bookhouse', 'booking', 'bookish', 'bookn', 'books', 'boom', 'booming', 'border', 'borderline', 'boreum', 'borghese', 'born', 'boro', 'boropark', 'borough', 'boroughs', 'bose', 'boss', 'botanic', 'botanical', 'both', 'bothroom', 'bottle', 'bottled', 'bottom', 'boudiors', 'boudoir', 'bound', 'bountiful', 'boutique', 'bowery', 'bowl', 'bowne', 'box', 'boy', 'bp', 'br', 'brad', 'bradhurst', 'brand', 'braodway', 'brass', 'brazil', 'brazilian', 'brd', 'brdg', 'brdm', 'brdway', 'break', 'breakfast', 'breath', 'breathtaking', 'breeze', 'breezy', 'brenda', 'brfast', 'brian', 'briarwood', 'brick', 'bricked', 'bricks', 'brickstone', 'brickwall', 'bridge', 'bridges', 'brief', 'brig', 'brigham', 'bright', 'brightclean', 'brightest', 'brightly', 'brighton', 'brilliance', 'brilliant', 'brite', 'british', 'britney', 'brkln', 'brkly', 'brklyn', 'brm', 'brnstn', 'broadway', 'broadway2', 'broadwayshows', 'brodway', 'brokklyn', 'bronx', 'bronxhattan', 'bronxhome', 'brook', 'brookln', 'brookly', 'brooklyn', 'brooklyn_', 'brooklynbridge', 'brooklyncleanroom', 'brooklynite', 'brooklynny', 'brooklynnyc', 'brooklynroom', 'brooklyns', 'brooklynwhisky', 'brookyln', 'brookyn', 'broolyn', 'broom', 'broome', 'brown', 'brownbrick', 'brownestone', 'brownston', 'brownstone', 'brownstones', 'brownstown', 'browstone', 'brs', 'brst', 'brt', 'bruckner', 'brwnstn', 'brwnstne', 'brwnstone', 'bryan', 'bryant', 'bs', 'bsm', 'bsm2', 'bsmnt', 'bsmt', 'btfl', 'btful', 'bth', 'bthr', 'bthrm', 'bthrms', 'bths', 'btw', 'btwn', 'bu', 'bubbly', 'buchanan', 'buck', 'budapest', 'buddha', 'buddies', 'budge', 'budget', 'buena', 'buffalo', 'buiding', 'build', 'building', 'buildng', 'built', 'bulls', 'bumble', 'bumpin', 'bungalo', 'bungalow', 'bunk', 'bunkbed', 'bunkbeds', 'bunker', 'bunks', 'burg', 'burgh', 'burnett', 'bus', 'buschwick', 'buses', 'busesa', 'bushburg', 'bushwhick', 'bushwich', 'bushwick', 'bushwickian', 'bushwicks', 'bushwik', 'business', 'busq67', 'bustle', 'bustling', 'bustomanhattan', 'busy', 'but', 'butterfly', 'buzzing', 'bway', 'bwick', 'bwtn', 'bx', 'bxny', 'by', 'bycrochet', 'byd', 'bymta', 'byobreakfast', 'bytimes', 'c7', 'c8', 'c9', 'cab', 'cabana', 'cabaña', 'cabin', 'cabina', 'cabins', 'cable', 'cafe', 'cafes', 'café', 'cafés', 'cakes', 'cal', 'calabrese', 'cali', 'calico', 'california', 'californiacation', 'call', 'called', 'calling', 'calm', 'calming', 'calvin', 'cama', 'camarote', 'camas', 'cambria', 'cambridge', 'camp', 'camper', 'camphor', 'camping', 'campus', 'can', 'canadian', 'canal', 'canarsie', 'cancellation', 'cancellations', 'candlelight', 'cantina', 'canvas', 'cap', 'cappuccinos', 'capsule', 'captain', 'captains', 'captainsquarters', 'captivating', 'captivatingly', 'capturing', 'car', 'card', 'care', 'caretakers', 'carib', 'caribbean', 'caribnb', 'carine', 'carlga', 'carlos', 'carlton', 'carnegie', 'carol', 'caroll', 'carriage', 'carrol', 'carroll', 'casa', 'casanova', 'casas', 'casino', 'casita', 'casper', 'castelo', 'castle', 'casual', 'casually', 'cat', 'catalina', 'catalog', 'catch', 'catching', 'catering', 'cathedral', 'cathedranyc', 'catholic', 'cation', 'catlandia', 'catlovers', 'cats', 'catsit', 'catslovers', 'cave', 'cb2', 'cb3', 'cbg', 'cc', 'ceiling', 'ceilinged', 'ceilings', 'celebrate', 'celebrities', 'celebrity', 'celebs', 'celestial', 'celing', 'cell', 'cemetery', 'cen', 'cent', 'cental', 'cente', 'center', 'centeral', 'centered', 'centra', 'centrak', 'central', 'centralized', 'centrally', 'centralpark', 'centralparknyc', 'centralparkuesmanhattan', 'centralpk', 'centralprk', 'centre', 'centric', 'centrl', 'centrpark', 'century', 'cerca', 'cercadetodo', 'cerebral', 'cesar', 'cesco', 'cg', 'chabla', 'chalet', 'chalk', 'chamber', 'chambers', 'chambre', 'chambres', 'chance', 'chandelier', 'chanukah', 'chaos', 'character', 'characteristic', 'charge', 'charismatic', 'charles', 'charlotte', 'charm', 'charmant', 'charmantes', 'charme', 'charmer', 'charming', 'charming1', 'charmingly', 'chateau', 'chatham', 'chauncey', 'chauncey1', 'che', 'cheap', 'cheapest', 'check', 'checkin', 'cheeky', 'cheerful', 'cheery', 'chef', 'chefs', 'chek', 'chelsa', 'chelsea', 'chelsea2', 'chelsea_global', 'chelseastudio', 'cherry', 'chest', 'chester', 'chez', 'chic', 'chickens', 'chicks', 'child', 'children', 'chill', 'chilled', 'chillest', 'chillin', 'chilling', 'chillspot', 'china', 'chinatown', 'chinese', 'chinitabhost', 'chique', 'chk', 'choice', 'chosen', 'chris', 'christina', 'christmas', 'christopher', 'chrming', 'chrysler', 'chrystie', 'chtwn', 'chuckjohnson', 'church', 'château', 'cinema', 'cinque', 'cir', 'circle', 'circus', 'citi', 'citibike', 'citified', 'citifield', 'citifiled', 'citrine', 'city', 'citycollege', 'cityscape', 'cityview', 'cityview_beauty', 'cityviews', 'ciudad', 'cl', 'clarkson', 'clason', 'class', 'classe', 'classes', 'classic', 'classical', 'classon', 'classy', 'claudette', 'clay', 'clean', 'clean1', 'clean15min', 'cleaner', 'cleanest', 'cleaning', 'cleanlovely', 'cleanly', 'cleanup', 'clear', 'clementine', 'cleo', 'clever', 'click', 'clifton', 'clinomania', 'clinton', 'clintonhill', 'cloisters', 'cloitres', 'close', 'close2', 'close2subway', 'closed', 'closemanhatt', 'closer', 'closest', 'closet', 'closeto', 'closets', 'clotilde', 'cloud', 'clouds', 'clove', 'clsoe', 'club', 'clubhouse', 'clubs', 'cluehouse', 'clutter', 'cnr', 'cntl', 'cntprk', 'cntr', 'cntrl', 'cntrlpk', 'co', 'coast', 'coastal', 'cobble', 'cobblestone', 'cocoon', 'coed', 'coeur', 'coffee', 'coin', 'col', 'colbert', 'cold', 'cole', 'coliving', 'collected', 'collection', 'collective', 'collectors', 'college', 'colleges', 'colombia', 'colombus', 'colonial', 'colony', 'color', 'colored', 'colorful', 'colorfull', 'colors', 'colossal', 'colourful', 'columbia', 'columbia2', 'columbias', 'columbiau', 'columbiauniversity', 'columbiauniversityhousing', 'columbus', 'columbuscircle', 'combination', 'combined', 'combo', 'come', 'comedian', 'comes', 'comfi', 'comfort', 'comfortabel', 'comfortable', 'comfortably', 'comforting', 'comforts', 'comfrtable', 'comftable', 'comfty', 'comfy', 'coming', 'comm', 'commercial', 'commercially', 'commode', 'common', 'commons', 'communal', 'commune', 'community', 'commute', 'commuter', 'commuters', 'comoda', 'comp', 'compact', 'company', 'compartida', 'compartido', 'compartir', 'compfy', 'complementary', 'complete', 'completed', 'completely', 'complex', 'compliant', 'complimentary', 'complitely', 'composer', 'compound', 'compri', 'computer', 'comtemporary', 'con', 'concept', 'concierge', 'concourse', 'concrete', 'conditiner', 'condition', 'conditioned', 'conditioner', 'conditioning', 'condo', 'condominium', 'condos', 'condotriplex', 'conducive', 'coney', 'confi', 'confort', 'confortable', 'connected', 'connection', 'connections', 'conscious', 'consider', 'construction', 'consuello', 'consuello2', 'contained', 'container', 'contemp', 'contempo', 'contemporary', 'content', 'continental', 'control', 'conv', 'conve', 'convenience', 'conveniences', 'convenient', 'conveniently', 'conveniet', 'convent', 'convention', 'conversion', 'converted', 'convertible', 'converts', 'convienent', 'convinced', 'convinience', 'convinient', 'convrtable', 'cook', 'cool', 'cooled', 'coolest', 'coop', 'cooper', 'cooperate', 'coote', 'coozy', 'coral', 'corazón', 'core', 'corky', 'cornelia', 'corner', 'cornerapartment', 'corona', 'corporate', 'cortelyou', 'cortlandt', 'corzy', 'cosi', 'cosmopolitan', 'coso', 'coso房源2017暑假招租', 'cost', 'cosy', 'cottage', 'cottagestyle', 'couch', 'couchcrash', 'couches', 'couchsurfer', 'could', 'couldn', 'country', 'county', 'couple', 'couples', 'couronne', 'course', 'court', 'courteous', 'courtyard', 'cousin', 'cousy', 'coutryard', 'cove', 'covenient', 'covered', 'covers', 'coveted', 'coworking', 'cozi', 'coziest', 'cozily', 'coziness', 'cozy', 'cozy8ppl', 'cozyclean', 'cozyhideaway', 'cozyhome', 'cozyplace', 'cozystudio', 'cozysuite', 'cozzy', 'cp', 'cpark', 'cpw', 'cq', 'craft', 'crafted', 'cras', 'crash', 'crashers', 'crashpad', 'crashpadsusa', 'crazy', 'crcle', 'cream', 'create', 'created', 'creating', 'creation', 'creations', 'creative', 'creatives', 'creek', 'crepitus', 'crescent', 'crew', 'crib', 'crisp', 'cristina', 'croptop', 'crossroads', 'crotona', 'crotonapark', 'crow', 'crowds', 'crown', 'crownheights', 'cruelty', 'cruise', 'crwn', 'crystal', 'crystalline', 'crème', 'css', 'ct', 'ctown', 'ctr', 'ctral', 'ctrl', 'ctybgd', 'ctyd', 'cu', 'cuadra', 'cuartito', 'cuarto', 'cub', 'cuddly', 'cuisines', 'cul', 'cultivated', 'cultural', 'culture', 'cultured', 'cultures', 'cumberland', 'cumc', 'cuny', 'curated', 'curator', 'curfew', 'curran', 'current', 'currently', 'curtain', 'curtains', 'cushy', 'cusp', 'custom', 'cut', 'cute', 'cutebedr', 'cutely', 'cuteness', 'cutepraise', 'cutest', 'cutie', 'cy', 'cyclist', 'cyn', 'cyp', 'cypress', 'céntricamente', 'cómoda', 'cómodo', 'cœur', 'd3', 'd5', 'd6', 'd7', 'd8', 'da', 'dab', 'dadukes', 'daily', 'dainty', 'dale', 'dali', 'dance', 'dandelion', 'dandy', 'dani', 'danish', 'dans', 'dante', 'daphne', 'dapper', 'dappled', 'darian', 'darling', 'das', 'dash', 'dashing', 'date', 'dates', 'daughter', 'dave', 'david', 'davis', 'dawn', 'dawntawn', 'day', 'daybed', 'daylight', 'days', 'daytime', 'dazzling', 'dbl', 'dble', 'dc', 'dd', 'de', 'deactivated', 'dead', 'deal', 'dealer', 'dean', 'deanna', 'dear', 'debbie', 'debonair', 'dec', 'decatur', 'decemb', 'december', 'decent', 'deck', 'deck_elev_', 'decks', 'deco', 'decor', 'decorated', 'decoration', 'decorative', 'decorator', 'decorators', 'dedicated', 'dee', 'deep', 'degree', 'dekalb', 'del', 'delacroix', 'delays', 'delicious', 'delight', 'delightful', 'delightfully', 'delirium', 'delis', 'delnewyorkroom', 'delue', 'delux', 'deluxe', 'demetrio', 'demmy', 'demo', 'den', 'denizen', 'department', 'deposit', 'depot', 'des', 'desayuno', 'descanza', 'descent', 'description', 'deserve', 'design', 'designed', 'designed2br', 'designer', 'designers', 'designsponge', 'designy', 'desirable', 'desired', 'desk', 'desks', 'despair', 'destination', 'destiny', 'detached', 'detailed', 'details', 'detodo', 'deuce', 'deux', 'development', 'devotion', 'dg', 'dgm', 'di', 'diamond', 'dictrict', 'die', 'diem', 'different', 'diggs', 'digioia', 'digital', 'digs', 'dikeman', 'dimple', 'dina', 'diner', 'dining', 'dinner', 'dinners', 'dinning', 'dios', 'direct', 'directions', 'directly', 'director', 'dis', 'disc', 'discerning', 'discount', 'discounted', 'discountprice', 'discounts', 'discover', 'disfrutar', 'dishwasher', 'dishwashr', 'disponible', 'disponnible', 'disposal', 'dist', 'distance', 'distict', 'distinct', 'distinctive', 'distr', 'distri', 'district', 'distt', 'ditmar', 'ditmars', 'ditmas', 'diverse', 'diversity', 'divided', 'divider', 'divine', 'dj', 'dlklc', 'dm', 'dnr', 'dntwn', 'do', 'dobro', 'dock', 'doctor', 'doctors', 'doesn', 'dog', 'dogs', 'dolce', 'doll', 'dollar', 'dollhouse', 'dome', 'dominiq', 'dominique', 'dominiques', 'domino', 'don', 'donat', 'donna', 'donovan', 'dont', 'dooglers', 'dooman', 'door', 'doorm', 'doorman', 'doormen', 'doors', 'doorstep', 'dope', 'doris', 'dorm', 'dormitorio', 'dormitory', 'dose', 'dottie', 'double', 'doublebed', 'doubles', 'douglaston', 'douplex', 'dov', 'down', 'downstairs', 'downstate', 'downton', 'downtown', 'downtownnyc', 'downtownviewaccomodation', 'downtwn', 'dplx', 'dr', 'dramatic', 'drawer', 'dream', 'dreamaker', 'dreamed', 'dreamer', 'dreamers', 'dreamhouse', 'dreaming', 'dreamland', 'dreamlike', 'dreams', 'dreamstyle', 'dreamy', 'dreamzzz', 'drenched', 'dressed', 'dresser', 'dressers', 'drive', 'driveway', 'drman', 'drmn', 'drop', 'dropping', 'dry', 'dryer', 'dsgn', 'dt', 'dtny', 'dtwn', 'duane', 'dublex', 'dubmo', 'duchill', 'duke', 'dulce', 'dumbo', 'dumont', 'dungeon', 'duo', 'dupelx', 'dupex', 'dupl', 'duplex', 'duplexloft', 'dupluxury', 'duplx', 'dupont', 'during', 'dusk', 'dvine', 'dwell', 'dwellers', 'dwelling', 'dwnst8', 'dwnstate', 'dwntn', 'dwntwn', 'dwtn', 'dyckman', 'dyker', 'dylan', 'dynamic', 'dynasty', 'e12th', 'e175th', 'e20', 'e70th', 'e89th', 'e91st', 'each', 'eager', 'eagle', 'earlier', 'early', 'earlybirddiscount', 'earth', 'earthy', 'ease', 'easiest', 'easily', 'easin', 'east', 'east34', 'eastbushwick', 'easter', 'eastern', 'eastnest', 'eastside', 'eastvillage', 'easy', 'eat', 'eats', 'ebony', 'ebs', 'eccentric', 'echo', 'eclectic', 'ecletic', 'eco', 'economic', 'economical', 'economy', 'ed', 'eddies', 'eden', 'edge', 'edgecombe', 'edgy', 'edition', 'edén', 'ee', 'effective', 'efficiency', 'efficient', 'effortlessly', 'efmr7', 'eggs', 'eh', 'eik', 'either', 'el', 'elavator', 'eldridge', 'electric', 'elegance', 'elegant', 'elegantly', 'element', 'elements', 'elena', 'elev', 'elevated', 'elevation', 'elevato', 'elevator', 'elevators', 'elexey', 'elgant', 'elio', 'elissa', 'elite', 'elizabeth', 'elk', 'elkins', 'ellington', 'ellis', 'elmhurst', 'elmhurst单房短租5', 'elmhurst整套豪华公寓', 'elmhurts', 'elv', 'em', 'email', 'emerald', 'emergency', 'emf', 'emma', 'emmons', 'emperors', 'empire', 'empirest', 'empirestate', 'empirestatebuilding', 'empirestateview', 'empireview', 'empress', 'empty', 'en', 'enchanted', 'enchanting', 'enchantment', 'enclave', 'encouraged', 'encrusted', 'encuentra', 'end', 'ending', 'endless', 'ends', 'energetic', 'energies', 'energy', 'enero', 'engineer', 'english', 'enjoy', 'enjoyable', 'enjoying', 'enlightenment', 'enormous', 'enough', 'ensuite', 'ent', 'enter', 'entering', 'entertaining', 'entertainment', 'entire', 'entire1br', 'entirehome', 'entirely', 'entirety', 'entrace', 'entrada', 'entrance', 'entrances', 'entrepreneurs', 'entry', 'env', 'enviornment', 'environment', 'enya', 'ep', 'epic', 'epicenter', 'episcopal', 'equip', 'equiped', 'equipped', 'er', 'era', 'erhart', 'es', 'esb', 'escape', 'espacio', 'espaço', 'espaçoso', 'español', 'espectacular', 'espresso', 'esque', 'essential', 'essentials', 'essex', 'est', 'estancia', 'estate', 'estates', 'esteem', 'esther', 'estilo', 'estrella', 'estudio', 'et', 'etc', 'ethelia', 'ethnic', 'ethnicity', 'etsy', 'ette', 'europa', 'european', 'ev', 'eve', 'eveland', 'event', 'events', 'ever', 'evergreen', 'everlast', 'every', 'everyone', 'everything', 'everywhere', 'evol', 'ex', 'exc', 'excelent', 'excellence', 'excellent', 'exceptional', 'exceptionally', 'exchange', 'excitement', 'exciting', 'exclusiva', 'exclusive', 'exclusively', 'excursion', 'exec', 'executive', 'exhibition', 'exhibitions', 'exotic', 'exp', 'expansive', 'expectations', 'expenditure', 'expensive', 'expereices', 'expereinces', 'experience', 'experienced', 'experienceღღღ', 'experiencing', 'exploration', 'explore', 'explorer', 'explorers', 'exploring', 'expo', 'exposed', 'exposure', 'express', 'expression', 'expresstrain', 'expressway', 'exquisite', 'exquisitely', 'extended', 'extension', 'extra', 'extraordinary', 'extras', 'extravagant', 'extreme', 'extremely', 'exótico', 'eye', 'eyrie', 'ez', 'fab', 'fabio', 'fabolous', 'faboules', 'fabulous', 'fabulously', 'face', 'faces', 'facing', 'factor', 'factory', 'faerie', 'fairplay', 'fairy', 'faith', 'fall', 'falls', 'fam', 'famed', 'familia', 'familiar', 'families', 'famille', 'family', 'famous', 'fan', 'fancy', 'fanta', 'fantastic', 'fantastical', 'far', 'farm', 'farmhouse', 'fartsy', 'fasciculation', 'fascinating', 'fashion', 'fashionable', 'fashioned', 'fashionista', 'fast', 'fave', 'favorite', 'featured', 'features', 'feb', 'febrero', 'february', 'fee', 'feel', 'feeling', 'feels', 'fees', 'feet', 'felt', 'female', 'females', 'feminine', 'feng', 'fengshui', 'fenihouse', 'ferry', 'festivals', 'festive', 'fetching', 'few', 'ff', 'fg', 'fh', 'fi', 'fiction', 'fidi', 'field', 'fields', 'fierce', 'fifth', 'fig', 'fill', 'filled', 'fillled', 'film', 'filming', 'filmmaker', 'filmset', 'filomena', 'final', 'finally', 'financial', 'finca', 'find', 'finding', 'fine', 'finest', 'fingertips', 'finished', 'finishes', 'fiore', 'fios', 'fire', 'firehouse', 'fireplace', 'firescape', 'fireworks', 'first', 'fishgrala', 'fit', 'fith', 'fitness', 'fits', 'fitting', 'five', 'fixins', 'fl', 'flair', 'flamingo', 'flare', 'flat', 'flatbush', 'flatbushbk', 'flatiron', 'flatlands', 'flats', 'flatshare', 'flavor', 'flawless', 'flex', 'flexibility', 'flexible', 'flight', 'flights', 'fling', 'flix', 'floasis', 'floating', 'floaty', 'flooded', 'floor', 'floored', 'floors', 'floorthrough', 'floorthru', 'flor', 'floral', 'florence', 'flower', 'flowery', 'flr', 'flrs', 'fls', 'flt', 'flushin', 'flushing', 'flushing法拉盛中心私人房间', 'flushing近法拉盛海景房', 'fly', 'flyest', 'fm', 'foam', 'fold', 'foldout', 'fom', 'fondo', 'food', 'foodie', 'foodies', 'foods', 'foot', 'for', 'for2', 'fordham', 'forest', 'forestgarden', 'foresthstadium', 'forever', 'forget', 'formal', 'formed', 'former', 'forreal', 'forrest', 'fort', 'forte', 'fortress', 'forward', 'fossa', 'found', 'fountain', 'four', 'fourpoints', 'fourth', 'fourtwin', 'fr', 'fraction', 'frame', 'francesco', 'francis', 'franco', 'frank', 'franklin', 'française', 'fraud', 'free', 'freebreakfast', 'freedom', 'freehand', 'freeman', 'freeparking', 'freesia', 'freewasher', 'french', 'fresh', 'freshly', 'fri', 'fridge', 'friend', 'friendly', 'friends', 'frills', 'frm', 'frnshd', 'from', 'fromtimesq', 'front', 'frontal', 'frost', 'frum', 'ft', 'ft²', 'fuhgettaboutit', 'ful', 'full', 'fullbath', 'fullbd', 'fulled', 'fullest', 'fullsize', 'fullszbd', 'fully', 'fulton', 'fun', 'functional', 'funished', 'funky', 'fur', 'furn', 'furnish', 'furnished', 'furnishured', 'furniture', 'furnitured', 'furnushed', 'futon', 'g1', 'g2newly', 'g3newly', 'g4newly', 'gabby', 'gabrielle', 'galaxy', 'gallery', 'galore', 'gamba', 'game', 'gamer', 'gamma', 'ganges', 'ganham', 'garage', 'garde', 'garden', 'gardened', 'gardens', 'gardenviewapt', 'gardn', 'garfield', 'garment', 'garnet', 'gate', 'gateaway', 'gated', 'gates', 'gateway', 'gather', 'gathering', 'gatherings', 'gatsby', 'gay', 'gazebo', 'gc', 'gct', 'gdn', 'gdns', 'gear', 'geek', 'gem', 'gema', 'gen', 'generous', 'genie', 'gente', 'gentleman', 'genuine', 'geodesic', 'geometric', 'george', 'georgeous', 'georgous', 'geraldine', 'germania', 'gerrie', 'get', 'getaway', 'getaways', 'getting', 'getwaway', 'gg', 'giant', 'gidi', 'gigantic', 'gigi', 'gigs', 'gilchrist', 'gilded', 'gimme', 'ginger', 'gingerbread', 'gingerheadman', 'giordano', 'girl', 'girls', 'girly', 'giza', 'gjob', 'gladness', 'glam', 'glamor', 'glamorous', 'glamp', 'glamper', 'glamping', 'glass', 'glendale', 'glittering', 'global', 'gloria', 'glorious', 'gloriously', 'glory', 'glove', 'glow', 'glowing', 'gnome', 'go', 'goal', 'goddess', 'godfather', 'gold', 'golden', 'goldfish', 'golf', 'gone', 'gonzalez', 'good', 'goodhome', 'goodyoga', 'gooood', 'gorg', 'gorgegous', 'gorgeous', 'gorgeous1', 'gorgeouslowereast2bedroomgem', 'gorgeus', 'gossip', 'gotham', 'gothic', 'gourgeous', 'govinda', 'gowanis', 'gowanus', 'goyankees', 'gp', 'gpoint', 'gq', 'gr', 'gr8', 'grabs', 'grace', 'gracious', 'grad', 'graffiti', 'graham', 'gramacy', 'gramcery', 'gramercy', 'gramercypark', 'gramery', 'grammercy', 'gran', 'grand', 'grandcentral', 'grande', 'grandma', 'grandview', 'grange', 'granite', 'grattan', 'grattanhouse', 'gravesend', 'gray', 'grdn', 'greap', 'great', 'greatest', 'greatly', 'greats', 'greatvalue', 'greek', 'green', 'greene', 'greenhouse', 'greenland', 'greenpoint', 'greenpoit', 'greenpt', 'greenroom', 'greenwhich', 'greenwich', 'greenwood', 'greka', 'gretel', 'grey', 'greyhound', 'greystone', 'griffin', 'grill', 'grilling', 'grnd', 'grnpt', 'groovy', 'ground', 'groundfloor', 'groundhog', 'group', 'groups', 'grove', 'grown', 'grows', 'grrenpoint', 'grrls', 'grymes', 'gsg', 'gtrain', 'guacamaya', 'guaranteed', 'guardia', 'guest', 'guesthouse', 'guestroom', 'guests', 'guestsuite', 'guggenheim', 'guide', 'guitar', 'gut', 'guy', 'guys', 'gw', 'gwb', 'gym', 'gyms', 'gypset', 'gypsy', 'ha', 'habitacion', 'habitación', 'habitat', 'habla', 'hablo', 'hacienda', 'haha', 'haiti', 'hale', 'half', 'hall', 'halletts', 'hallway', 'halsey', 'hamiliton', 'hamilton', 'hamiltons', 'hammock', 'hampton', 'hamptons', 'han', 'hancock', 'hand', 'handmade', 'handsome', 'hang', 'hangout', 'hangouts', 'hank', 'hanover', 'hansel', 'happenin', 'happening', 'happiness', 'happy', 'happycozy', 'happynest', 'harbor', 'harborview', 'hard', 'hardwood', 'harlem', 'harlem2bdrm', 'harlemites', 'harman', 'harmonious', 'harmony', 'harrigan', 'harrison', 'harry', 'hart', 'harvey', 'has', 'hassle', 'haus', 'haute', 'hauz', 'have', 'havemeyer', 'haven', 'hawai', 'hawaii', 'hawthorne', 'haydn', 'hazel', 'hbo', 'hboshowtime', 'he', 'head', 'headquarters', 'healers', 'healing', 'health', 'healthy', 'heart', 'heartbeat', 'hearth', 'heartof', 'heartofnyc', 'heat', 'heated', 'heater', 'heaven', 'heavenly', 'heavens', 'heavy', 'hebrews', 'height', 'heights', 'heightz', 'heigths', 'helen', 'hell', 'hella', 'helle', 'helles', 'hello', 'hells', 'hellskitchen', 'helps', 'helpshaiti', 'hendrix', 'henry', 'herald', 'herbalist', 'here', 'herkimer', 'hermoso', 'hewes', 'hey', 'hghts', 'hgt', 'hgts', 'hgv', 'hi', 'hibiscus', 'hidden', 'hide', 'hideaway', 'hideout', 'hideway', 'high', 'highclass', 'highest', 'highland', 'highline', 'highly', 'highr', 'highrise', 'highs', 'hight', 'hights', 'highway', 'highways', 'hil', 'hill', 'hills', 'hillside', 'hilton', 'him', 'himes', 'himrod', 'hint', 'hip', 'hippest', 'hippie', 'hipster', 'hipsters', 'hipstest', 'hir', 'hirise', 'hist', 'historian', 'historic', 'historical', 'historically', 'history', 'hive', 'hiéroglyphe', 'hk', 'hm', 'hoffman', 'hogar', 'holiday', 'holidays', 'holistic', 'hollis', 'holly', 'hollywood', 'home', 'home1', 'home2', 'home4', 'home4you', 'homebase', 'homebrooklyn', 'homecrest', 'homelike', 'homely', 'homeoffice', 'homes', 'homesharing', 'homestay', 'homestead', 'hometown', 'homey', 'homie', 'homy', 'honest', 'honey', 'honeycomb', 'honeyroom', 'hood', 'hook', 'hop', 'hope', 'horizon', 'horn', 'horripilation', 'hosp', 'hospitable', 'hospital', 'hospital1', 'hospitality', 'hospitals', 'host', 'hostal', 'hosted', 'hostel', 'hostess', 'hosting', 'hosts', 'hot', 'hotbeds', 'hotel', 'hotels', 'hotspot', 'hotspots', 'hottest', 'hottub', 'hour', 'house', 'housebarge', 'houseboat', 'household', 'houseofgrace', 'houses', 'housework', 'housing', 'housings', 'houston', 'how', 'howard', 'hp', 'hq', 'hr', 'hrlem', 'hrt', 'hs', 'hse', 'hts', 'hub', 'hudge', 'huds', 'hudson', 'hudsonview', 'huge', 'hugedeck', 'hugehiphome', 'hugeoutdoor', 'hugeroom', 'hugespace', 'hugetropical', 'hugew', 'hugh', 'hugr', 'hulu', 'humble', 'humongous', 'humphrey', 'humphries', 'hungry', 'hunter', 'hunters', 'hunts', 'hus', 'husband', 'hustle', 'hustler', 'hut', 'hutch', 'huuuge', 'hwy', 'hygge', 'hyper', 'hästens', 'ibr', 'ic', 'iconic', 'iconicbuilding', 'ideal', 'idealistic', 'ideally', 'idy', 'idyllic', 'idéale', 'if', 'ii', 'iii', 'iike', 'il', 'illuminated', 'immaculate', 'immediately', 'immersive', 'impeccable', 'imperial', 'impressive', 'improved', 'in', 'in1887', 'in3bed', 'in_manhattan', 'inastoria', 'inbushwick', 'inc', 'incambria', 'incentra', 'inch', 'incl', 'include', 'included', 'includes', 'including', 'incluido', 'inclusive', 'incredible', 'incredibly', 'independant', 'independence', 'independent', 'independiente', 'indie', 'individual', 'individually', 'individuals', 'indo', 'indoor', 'indoors', 'industrial', 'industrialized', 'industry', 'industrycity', 'industrycityroom', 'indépendant', 'inexpensive', 'infamous', 'infant', 'infinite', 'infront', 'infused', 'ingefära', 'ingreat', 'ingrid', 'inground', 'inigo', 'inn', 'inner', 'innocence', 'inq', 'inquiry', 'ins', 'insane', 'insanely', 'inside', 'inspiration', 'inspire', 'inspired', 'inspiring', 'instagram', 'instagrammers', 'instant', 'instantly', 'institute', 'insuite', 'int', 'inter', 'interactive', 'interfaith', 'interior', 'interiors', 'intern', 'international', 'internet', 'interns', 'internships', 'intimate', 'intimes', 'into', 'intrf8', 'inues', 'invincible', 'invitation', 'inviting', 'inwood', 'ionic', 'ireland', 'iris', 'iron', 'irresistible', 'irving', 'is', 'isaac', 'ish', 'ishmael', 'isl', 'island', 'island整租或合租', 'isolated', 'israeli', 'it', 'italian', 'italianate', 'italy', 'its', 'iv', 'ivoire', 'ivory', 'ivy', 'jaccuzi', 'jack', 'jackie', 'jackpot', 'jackson', 'jacuztub', 'jacuzzi', 'jade', 'jades', 'jam', 'jamaica', 'jamaican', 'james', 'jan', 'january', 'jardín', 'jasmine', 'javits', 'javitscenter', 'javitz', 'jaw', 'jax', 'jay', 'jazz', 'jazzy', 'jci', 'jeanie', 'jeff', 'jefferson', 'jeffreson', 'jefftown', 'jen', 'jersey', 'jesse', 'jestina', 'jewel', 'jewish', 'jfk', 'jfk10mins', 'jfk5minlga15min', 'jfkairport', 'jfkqueenscomfort', 'jh', 'jill', 'jill2', 'jimi', 'jingle', 'jm', 'jmz', 'jnk', 'joe', 'joellen', 'joes', 'john', 'johns', 'johnson', 'jolly', 'jones', 'josh', 'journey', 'joy', 'joyce', 'joyeuse', 'joyful', 'joyous', 'jp', 'jr', 'ju', 'judge', 'juilliard', 'jul', 'juliette', 'julliard', 'july', 'july17th', 'july4throoftopview', 'jumel', 'jun', 'june', 'jungalow', 'jungle', 'junglegym', 'jungles', 'jungly', 'junior', 'jupiter', 'just', 'justice', 'jw', 'kajou1', 'kalajones', 'kan', 'kansas', 'kate', 'kaufman', 'kawaii', 'kay', 'kchn', 'kelly', 'kemare', 'kendal', 'kennedy', 'kensington', 'kept', 'kettering', 'kew', 'key', 'keyed', 'kg', 'khimani', 'kichen', 'kick', 'kid', 'kids', 'kihazi', 'kiki', 'killer', 'kind', 'kinda', 'kinetic', 'king', 'kingbed', 'kingdom', 'kingly', 'kings', 'kingsbridge', 'kingsc', 'kingshwy', 'kingsize', 'kingsland', 'kingston', 'kipps', 'kips', 'kipsb', 'kipsbay', 'kipsey', 'kirtan', 'kissed', 'kissena', 'kit', 'kitcat', 'kitch', 'kitchen', 'kitchenette', 'kitchens', 'kitschy', 'kitten', 'kitties', 'kitty', 'kiwi', 'klean', 'klein', 'klyn', 'kngbr1', 'kngbr3', 'kngbr4', 'kngbr5', 'kngbr6', 'knight', 'knitting', 'know', 'knows', 'konakolo', 'kook', 'korea', 'korean', 'kosher', 'kosy', 'kozy', 'kozzy', 'ktchn', 'kuetheresidence', 'kw', 'kwiet', 'kz65st', 'la', 'lab', 'labor', 'labs', 'ladies', 'lady', 'ladyliberty', 'ladys', 'lafayette', 'lago', 'laguard', 'laguardia', 'laguradia', 'lahore', 'laid', 'lakay', 'lake', 'lakeside', 'lakeview', 'lakou', 'lambe', 'lambert', 'lamp', 'land', 'landing', 'landmark', 'landmarked', 'landmarks', 'landscaped', 'lane', 'langone', 'lapa', 'lapp', 'laptop', 'large', 'largeapt', 'largebedroom', 'largegroups', 'larger', 'largest', 'laroom', 'las', 'last', 'lastm', 'late', 'later', 'laughter', 'launch', 'launching', 'launchpad', 'laundry', 'laurelton', 'lauren', 'lava', 'lavender', 'lavidaloca', 'lavish', 'lavished', 'lavishing', 'law', 'lawn', 'lawrence', 'lay', 'layout', 'layover', 'layovers', 'layton', 'lcd', 'le', 'leafy', 'leah', 'learn', 'lease', 'least', 'leave', 'leaves', 'lebanon', 'leelas', 'leffert', 'lefferts', 'left', 'legal', 'legally', 'legendary', 'lego', 'lehman', 'leisure', 'leli', 'lenox', 'leonardloft', 'les', 'less', 'let', 'level', 'levels', 'leverich', 'lex', 'lexi', 'lexington', 'lg', 'lga', 'lga15mins', 'lgbt', 'lgbtq', 'lgbtqia', 'lge', 'li', 'liberation', 'liberty', 'library', 'lic', 'lic网红楼jackson', 'life', 'lifestlye', 'lifestyle', 'lifetime', 'light', 'lighted', 'lightened', 'lightfilled', 'lightfull', 'lighthouse', 'lighting', 'lights', 'liguria', 'lij', 'like', 'lil', 'lily', 'limestone', 'limited', 'limpio', 'limpo', 'lincln', 'lincoln', 'lincon', 'linda', 'linden', 'line', 'lined', 'linen', 'linens', 'liner', 'lines', 'link', 'links', 'lir', 'lirr', 'lisa', 'listed', 'listing', 'lit', 'literally', 'literary', 'little', 'littleitaly', 'liu', 'liv', 'live', 'lived', 'lively', 'livin', 'living', 'livingrm', 'livingroom', 'liz', 'll', 'll2', 'll3', 'llc', 'lngterm', 'lo', 'loacation', 'loading', 'loc', 'loca', 'local', 'locale', 'localhaus', 'locals', 'locat', 'locate', 'located', 'location', 'location_upper', 'locations', 'location中国城', 'lock', 'locked', 'loction', 'lodge', 'lodging', 'loft', 'loft2bdrm', 'loftbed', 'lofted', 'loftlike', 'lofts', 'loftstudio', 'loftw', 'lofty', 'logan', 'loisaida', 'lola', 'lombardy', 'long', 'longer', 'longterm', 'longtermii', 'longterms', 'look', 'looking', 'looks', 'loralei', 'loralisa', 'lorenna', 'lorimer', 'lorimier', 'loring', 'lost', 'lot', 'lothlorien', 'lots', 'lou', 'louise', 'lounge', 'louvre', 'love', 'loved', 'lovely', 'lover', 'lovers', 'loveseat', 'loving', 'lovley', 'low', 'lower', 'lowereast', 'lowereastside', 'lowerlevel', 'lowermanhattan', 'lowprce', 'lp', 'lr', 'lrg', 'lrg1bdrm', 'lrge', 'lsland', 'ltrain', 'lucas', 'lucio', 'lucky', 'lucy', 'luda', 'ludlow', 'lugar', 'luger', 'luggage', 'luis', 'luk', 'luke', 'lumber', 'luminescent', 'lumineuse', 'luminoso', 'luminous', 'luna', 'lunar', 'lush', 'lusurious', 'lutheran', 'lux', 'lux5156', 'luxary', 'luxe', 'luxirious', 'luxmaster', 'luxry', 'luxuary', 'luxuriate', 'luxuriest', 'luxurious', 'luxuriuos', 'luxury', 'luxury24d', 'luxury3', 'luxuryapt', 'luz', 'lv', 'lvdr', 'lvg', 'lvnroom', 'lvpenthouse', 'lxry', 'lxury', 'ly', 'lyn', 'lyric', 'm1', 'm2', 'm3', 'm5', 'm6', 'm60bus', 'ma', 'maccarren', 'macdonough', 'macon', 'macula', 'macy', 'macys', 'mad', 'made', 'madeline', 'madinina', 'madison', 'mag', 'magazine', 'magic', 'magical', 'magnificent', 'magnificient', 'magnifique', 'magnolia', 'mags', 'mahanttan', 'mahattan', 'mahattaton', 'mahogany', 'maid', 'mailman', 'maim0', 'maimonides', 'maimonideslutheranhos', 'maimonideslutheranindustrycity', 'main', 'mainst', 'mainstay', 'maintanence', 'maison', 'maisonette', 'majestic', 'major', 'make', 'maker', 'makes', 'mala', 'male', 'males', 'mall', 'malls', 'mamas', 'mamhattan', 'man', 'manahattan', 'manahttan', 'manatthan', 'manchi', 'manh', 'manhan', 'manhanton', 'manhanttan', 'manhat', 'manhatan', 'manhathan', 'manhatt', 'manhatta', 'manhattah', 'manhattan', 'manhattan20', 'manhattan3', 'manhattan30mins', 'manhattan4', 'manhattanairport', 'manhattans', 'manhattanville', 'manhattan曼哈顿中心', 'manhatten', 'manhatthen', 'manhattn', 'manhhatan', 'manhtan', 'manhtattan', 'manhtn', 'manhttan', 'manhttn', 'mannys', 'manor', 'mansion', 'mantattan', 'many', 'maple', 'mar', 'marabou', 'marathon', 'marble', 'marc', 'marce', 'marcel', 'marcela', 'marcelo', 'march', 'marco', 'marcus', 'mare', 'margarita', 'maria', 'marie', 'marilyn', 'marina', 'marine', 'marion', 'marios', 'maritza', 'mark', 'market', 'marko', 'marks', 'markup', 'marlborough', 'marlie', 'marriott', 'marry', 'marsha', 'martense', 'martha', 'martial', 'marvel', 'marvellous', 'marvelous', 'mary', 'maryhills', 'maspeth', 'mass', 'massage', 'massive', 'master', 'masterbed', 'masterbedroom', 'masterbr', 'masterful', 'masterpiece', 'masterroom', 'match', 'matchless', 'mate', 'mater', 'matilda', 'matter', 'mattress', 'mattresses', 'maujer', 'maurice', 'mavis', 'max', 'maximum', 'maxs', 'may', 'mayor', 'mbnb', 'mc', 'mccarenpark', 'mccarren', 'mcdonald', 'mcgolrick', 'mckibbin', 'mcsimon', 'mcu', 'mdrn', 'mdtwn', 'me', 'meadow', 'meadows', 'meal', 'meals', 'meat', 'meatpackiing', 'meatpacking', 'mecca', 'med', 'media', 'mediation', 'medical', 'meditation', 'meditative', 'mediterranean', 'medium', 'meet', 'meeting', 'meetings', 'meets', 'mega', 'melanie', 'melinda', 'melissa', 'mellow', 'melrose', 'mels', 'mem', 'membership', 'memorable', 'memorial', 'memories', 'memory', 'men', 'menahan', 'mercedes', 'mercer', 'merged', 'mermaid', 'meserole', 'mesmerized', 'mesmerizing', 'met', 'meteorine', 'methodist', 'meticulously', 'metro', 'metro20min', 'metrocard', 'metropolis', 'metropolitan', 'metros', 'meublé', 'mews', 'mexico', 'meyers', 'mezzanine', 'mftkn', 'mh', 'mhtn', 'mhttnfullapt', 'mi', 'mia', 'miami', 'michael', 'micheal', 'micro', 'mid', 'midcentury', 'middle', 'midmanhattan', 'midsize', 'midst', 'midtown', 'midtown1stop', 'midtown4f', 'midtownwest', 'midtwn', 'midtwon', 'midway', 'midwest', 'midwood', 'mighties', 'mighty', 'mike', 'mikey', 'mile', 'miles', 'milieu', 'milk', 'milky', 'mill', 'million', 'millions', 'miltons', 'miminalism', 'mimutes', 'min', 'mina', 'mind', 'mine', 'mingle', 'mini', 'miniarthotel', 'minim', 'minimal', 'minimalism', 'minimalist', 'minimalistic', 'minimally', 'minimum', 'minimun', 'minipalace', 'minipenthouse', 'miniutes', 'mins', 'minst', 'mint', 'mintimes', 'mints', 'minuets', 'minus', 'minute', 'minutes', 'minutesbig', 'minutos', 'miraculous', 'miriams', 'mirror', 'mirrored', 'mirrors', 'mishay', 'mismo', 'miss', 'missy', 'mitchell', 'mixing', 'mj', 'mjs', 'mkt', 'ml', 'mln', 'mn', 'mnh', 'mnhn', 'mnhtn', 'mnhttn', 'mns', 'mnts', 'mo', 'mobility', 'mod', 'modem', 'moderm', 'modern', 'modern_bestlocation', 'moderncave', 'moderncozy', 'moderne', 'modernes', 'modernism', 'modernist', 'modernized', 'modernly', 'modest', 'modular', 'modulo', 'mogul', 'mom', 'moma', 'moment', 'moments', 'mommy_ty', 'mondern', 'monet', 'money', 'monica', 'monitors', 'monk', 'monkey', 'monroe', 'montauk', 'monte', 'montefiore', 'month', 'monthly', 'months', 'montrose', 'monty', 'moon', 'moonlight', 'moore', 'morada', 'morden', 'more', 'moreno', 'morgan', 'morgantown', 'morning', 'mornings', 'morningside', 'morningsideheights', 'moroccan', 'morocco', 'morris', 'mos', 'moses', 'mosholu', 'most', 'mostly', 'mother', 'motherofthec00l', 'mothership', 'motivational', 'motoryacht', 'mott', 'mount', 'move', 'movie', 'movies', 'moving', 'moxy', 'mozy', 'mp', 'mr', 'mrnw', 'mry', 'ms', 'msg', 'msk', 'mt', 'mta', 'mtan', 'mtasubway', 'mtrain', 'mtw', 'much', 'mujer', 'mujeres', 'mulberry', 'multi', 'multicultural', 'multifamily', 'multilevel', 'multileveled', 'multimedia', 'multiple', 'mundo', 'murals', 'murr', 'murray', 'murrayhill', 'murry', 'musa', 'muse', 'musems', 'museum', 'museum1br', 'museums', 'music', 'musica', 'musical', 'musician', 'musicians', 'must', 'musuems', 'muy', 'muycerca', 'my', 'myhome', 'mylittleplace', 'mymoderncrib', 'myplace2beach', 'myplaceyourspace', 'myrtle', 'myrtlewash', 'mysig', 'n7', 'nabe', 'naelle', 'name', 'nana', 'nancy', 'nantucket', 'naomi', 'narnia', 'nash', 'nassau', 'nation', 'nations', 'native', 'natual', 'natural', 'naturally', 'nature', 'naturesque', 'navidad', 'navy', 'nbpc', 'nbrhood', 'nd', 'ne', 'near', 'nearall', 'nearby', 'nearj', 'nearjfk', 'nearly', 'nearmacy', 'nearmaimonidessmallroom', 'neartrain', 'neartransportation', 'nearwilliamsburg', 'neat', 'necessities', 'neck', 'necrosis', 'need', 'needed', 'needs', 'negotiable', 'neighb', 'neighboorhood', 'neighbor', 'neighborh', 'neighborhd', 'neighborhod', 'neighborhood', 'neighborhood2', 'neighborhoods', 'neighbourhood', 'neighbrhood', 'nelson', 'neo', 'neon', 'nerdy', 'nest', 'nested', 'nestled', 'net', 'netflix', 'nettie', 'neve', 'nevena', 'never', 'new', 'new_2br_privateroof', 'new_duplex_breathtakingviews_beauty', 'newest', 'newly', 'newlybuilt', 'newmodern_bestlocation', 'newplace', 'newplace2', 'newprivateroom', 'newxl', 'newyork', 'newyorkr', 'next', 'next2train', 'nextdoor', 'nextdoorto', 'nexus', 'nice', 'nicea', 'nicely', 'nicequiet10', 'nicer', 'niceroomniceneighborhoodclosemaimonideshospital', 'nicest', 'nicholas', 'nicki', 'niece', 'nifty', 'night', 'nightlife', 'nightly', 'nights', 'nihongo', 'nikki', 'nile', 'nini', 'nirvana', 'nites', 'nj', 'no', 'nobel', 'noel', 'noha', 'nohiddenfees', 'noho', 'noicy', 'noir', 'noise', 'noisy', 'nolita', 'nomad', 'nomads', 'non', 'nonprofit', 'nook', 'nordic', 'north', 'northeast', 'northern', 'northshore', 'northside', 'northwell', 'norwood', 'nostrand', 'not', 'notch', 'notes', 'nothing', 'notorious', 'nouveau', 'nov', 'november', 'now', 'noxious', 'nr', 'number', 'nursery', 'nurses', 'nurturing', 'nw', 'nwly', 'nwr', 'ny', 'nybg', 'nyc', 'nyc1', 'nyc2', 'nyc4you', 'nycartbnb', 'nychaven1', 'nychaven2', 'nychaven3', 'nychaven4', 'nycity', 'nycs', 'nyct02', 'nycth', 'nyc法拉盛中心的新装修房wifi', 'nyc舒適安全便利的家', 'nye', 'nyer', 'nyferry', 'nyker', 'nylocals', 'nymt03', 'nymt05', 'nymt06', 'nymt07', 'nymt21', 'nymt60', 'nypd', 'nys', 'nysa', 'nystreet', 'nyu', 'nyuw', 'nyuw05', 'nyで人気の街ﾌﾞﾙｯｸﾘﾝﾊﾟｰｸｽﾛｰﾌﾟで', 'nyﾐｯﾄﾞﾀｳﾝ高級ｺﾝﾄﾞのﾘﾋﾞﾝｸﾞﾙｰﾑに宿泊', 'náser', 'nôm', 'o4', 'oaisis', 'oak', 'oasis', 'oassis', 'occup', 'occupancy', 'occupied', 'ocean', 'oceanfront', 'oceanhill', 'oceanside', 'oceanview', 'ocenfront', 'oct', 'october', 'odyssey', 'of', 'off', 'offer', 'offering', 'offers', 'office', 'offices', 'officespace', 'official', 'ofpark', 'oh', 'ohka', 'ok', 'okay', 'old', 'older', 'oldest', 'oldschool', 'ole', 'olive', 'olivier', 'om', 'omaric', 'omoh', 'on', 'on41st', 'once', 'onderdonk', 'one', 'onebedroom', 'ones', 'only', 'onto', 'onward', 'op', 'opal', 'opalite', 'open', 'opening', 'opentennis', 'open唐人街电梯公寓', 'opera', 'operated', 'operations', 'oportunidad', 'opposite', 'opt', 'option', 'optional', 'opulent', 'or', 'orange', 'orchard', 'orderly', 'ordinary', 'organic', 'orgonized', 'oriana', 'oriental', 'oriented', 'original', 'originally', 'ornate', 'other', 'otheroom', 'others', 'ottoman', 'ou', 'oudoor', 'our', 'out', 'outback', 'outd', 'outdoor', 'outdoordeck', 'outdoors', 'outlets', 'outpost', 'outs', 'outside', 'outstanding', 'oval', 'over', 'overlook', 'overlooking', 'overnight', 'oversize', 'oversized', 'owesome', 'owl', 'own', 'own1', 'owned', 'owner', 'owners', 'oxford', 'ozone', 'où', 'pace', 'pacheco', 'pacific', 'pacious', 'packaged', 'packed', 'packing', 'pad', 'paddy', 'paid', 'painters', 'painting', 'pair', 'paisa', 'palace', 'palatial', 'palatine', 'palazzo', 'palce', 'pallet', 'palm', 'pam', 'panaromic', 'panda', 'pann', 'panorama', 'panoramic', 'paper', 'para', 'parachute', 'parade', 'paradise', 'paradisiac', 'paradiso', 'parasthesia', 'paraíso', 'pareja', 'parents', 'paris', 'parisian', 'park', 'park2', 'parkchester', 'parking', 'parkng', 'parks', 'parkside', 'parkslop', 'parkslope', 'parkview', 'parkway', 'parkways', 'park沙发客厅', 'park独立卧室出租', 'park近公園新小套房', 'parlor', 'parlour', 'part', 'part2', 'parte', 'partially', 'parties', 'partitioned', 'party', 'pass', 'passengers', 'passion', 'passive', 'passover', 'passport', 'pastel', 'pat', 'path', 'patio', 'patios', 'patricia', 'patty', 'pauline', 'pax', 'paying', 'pb', 'pc', 'pea', 'peace', 'peaceful', 'peacefull', 'peacful', 'peach', 'peaches', 'peachy', 'peacuful', 'pearl', 'pedestrian', 'pelham', 'pendulum', 'peninsula', 'penn', 'penny', 'pensione', 'pent', 'penth', 'penthouse', 'penthouse_private', 'penthousprivate', 'penthouz', 'people', 'pepe', 'per', 'perch', 'perched', 'perf', 'perfect', 'perfection', 'perfectly', 'perfume', 'perhaps', 'period', 'periwinkle', 'perks', 'permago', 'perrier', 'perry', 'pers', 'person', 'persona', 'personal', 'personale', 'personality', 'personas', 'personne', 'personnel', 'persons', 'perspective', 'perstay', 'perto', 'pet', 'peter', 'petfriendly', 'petit', 'petite', 'petra', 'pets', 'pfizer', 'ph', 'phenomenal', 'philip', 'phillips', 'philosopher', 'phoebe', 'phone', 'photo', 'photographer', 'photographers', 'photography', 'photos', 'photoshoot', 'photoshoots', 'photosht', 'piano', 'pibbles', 'pick', 'pickup', 'picture', 'pictures', 'picturesque', 'pie', 'piece', 'pied', 'pier', 'pilas', 'pillowtop', 'pilots', 'pinacoladaburgh', 'pincushion', 'pineapple', 'pines', 'ping', 'pink', 'pinlia', 'pinterest', 'pirate', 'pirouette', 'pit', 'pizzazz', 'pj', 'pk', 'pking', 'pkwy', 'pl', 'place', 'place2', 'place3', 'place_room', 'places', 'plan', 'plans', 'plant', 'planta', 'plantation', 'plantlovers', 'plants', 'play', 'play2', 'player', 'playful', 'playground', 'playr', 'playroom', 'plays', 'plaza', 'plc', 'pleasant', 'please', 'pleasure', 'plenitud', 'plenty', 'plg', 'plum', 'plus', 'plush', 'pluviophile', 'plymouth', 'plz', 'pm', 'po', 'pocket', 'pod', 'poet', 'point', 'points', 'polished', 'polly', 'pond', 'ponderosa', 'ponerse', 'pong', 'ponte', 'pool', 'pools', 'pop', 'pope', 'poppin', 'popular', 'popup', 'popups', 'porch', 'porches', 'port', 'portal', 'posh', 'position', 'positive', 'pospect', 'possible', 'post', 'postmodern', 'potential', 'potter', 'pour', 'powder', 'powell', 'power', 'powered', 'poyer', 'pp', 'ppl', 'pr', 'pr1vate', 'practical', 'pratt', 'pravite', 'pre', 'precio', 'precios', 'precious', 'preferred', 'prefr', 'premier', 'premium', 'presb', 'presby', 'presbyterian', 'president', 'presidential', 'pressed', 'pressure', 'prestige', 'prestigious', 'prettiest', 'pretty', 'prewar', 'price', 'priced', 'prices', 'pricing', 'pride', 'prim', 'primary', 'primchelsea', 'prime', 'primely', 'prince', 'princess', 'print', 'printing', 'pristine', 'priv', 'privacy', 'privada', 'privado', 'privarte', 'privat', 'privata', 'private', 'private2br', 'privatebath', 'privatebathroom', 'privatebathroom4', 'privatebd', 'privatebed', 'privated', 'privateentrancebathroom', 'privatelivingrm', 'privately', 'privatepeaceful', 'privateprkng', 'privaterm', 'privateroom', 'privateroom1', 'privateroom2', 'privateterrace', 'prive', 'privet', 'privileged', 'privte', 'privé', 'privée', 'prk', 'prkg', 'pro', 'proche', 'producer', 'production', 'professional', 'professionally', 'professionals', 'professor', 'profile', 'profilemanhattan', 'profit', 'profs', 'progress', 'prohibition', 'projector', 'projects', 'prolonged', 'promenade', 'promise', 'promo', 'propect', 'proper', 'property', 'propsect', 'prospecpark', 'prospect', 'prospectheights', 'prospectpark', 'proud', 'provided', 'provincial', 'prv', 'prvate', 'prvt', 'prvte', 'près', 'prívate', 'próximo', 'ps1', 'pt', 'pub', 'public', 'pueden', 'pulaski', 'pull', 'pullout', 'pulp', 'pulse', 'punjabi', 'punk', 'pupilos', 'puppet', 'purchase', 'pure', 'purevia', 'purple', 'putnam', 'pv', 'pvblic', 'pvt', 'pvte', 'pway', 'på', 'q10', 'q24', 'q3', 'q65', 'q85', 'qn', 'qns', 'qs', 'qsize', 'qsubway', 'qt', 'qtpoc', 'qtrain', 'quadruple', 'quaint', 'quality', 'quant', 'quarter', 'quarters', 'quarto', 'quartz', 'que', 'quee', 'queen', 'queenbed', 'queenroom', 'queens', 'queens1', 'queensize', 'queensizebed', 'queentempurpedicbed', 'queer', 'queit', 'quest', 'quick', 'quiera', 'quiescence', 'quiet', 'quiete', 'quietest', 'quietly', 'quincy', 'quinn', 'quint', 'quinta', 'quintessential', 'quirky', 'quit', 'quite', 'quitissential', 'r1', 'r2', 'r202', 'r3', 'r4', 'r5', 'r6', 'raccoon', 'race', 'racetrack', 'rad', 'radiant', 'radio', 'rahshoeray', 'rail', 'railroad', 'railway', 'rain', 'rainbow', 'rainfall', 'raise', 'ralph', 'ranch', 'rancho', 'randall', 'range', 'rare', 'rate', 'rated', 'rates', 'rating', 'ravenwood', 'raw', 'ray', 'raz', 'razzmatazz', 're', 'read', 'reader', 'reading', 'ready', 'real', 'really', 'realness', 'realty', 'rear', 'reason', 'reasonable', 'rebirth', 'rebuilt', 'recently', 'recharge', 'reclaimed', 'record', 'recording', 'recycle', 'red', 'redbrick', 'redefined', 'redemption', 'redesigned', 'redeux', 'redford', 'redhook', 'redone', 'redroom', 'redstone', 'reduced', 'redwood', 'reenery', 'refined', 'refinery', 'refinished', 'refresh', 'refreshing', 'refreshingly', 'refuge', 'refugees', 'refund', 'refurbished', 'reg', 'regal', 'reggae', 'regina', 'regis', 'rego', 'reign', 'rejuvenate', 'relax', 'relaxation', 'relaxed', 'relaxing', 'reliable', 'remix', 'remodeled', 'remote', 'remsen', 'renaissance', 'renassiance', 'renevated', 'renewed', 'rennovated', 'reno', 'reno1br', 'renovare', 'renovat', 'renovate', 'renovated', 'renovation', 'renovations', 'rent', 'renta', 'rental', 'rentals', 'renters', 'renting', 'rento', 'repose', 'reptarium', 'req', 'required', 'reservar', 'reserve', 'residence', 'residences', 'residencies', 'residency', 'resident', 'residential', 'residents', 'residing', 'resort', 'resorts', 'respectful', 'respite', 'response', 'rest', 'restaurant', 'restaurants', 'restful', 'restfully', 'resting', 'restoration', 'restorative', 'restored', 'restroom', 'restrooms', 'resturants', 'retreat', 'retreat_nyc', 'retreats', 'retrieve', 'retrieve1', 'retrieve2', 'retrieve3', 'retro', 'revel', 'review', 'reviews', 'revitalized', 'rf', 'rg', 'rh', 'rh29', 'rhapsody', 'rhonda', 'ri', 'rich', 'richardson', 'richmond', 'ride', 'ridge', 'ridgewood', 'ridiculously', 'right', 'rightl', 'rincón', 'ring', 'riomaggiore', 'rise', 'rising', 'ritz', 'river', 'riverbank', 'riverdale', 'riverdales', 'riversdeprk', 'riverside', 'rivervie', 'riverview', 'riviera', 'rivpark', 'rj', 'rm', 'rm2', 'rm3', 'rm4', 'rms', 'ro', 'road', 'roads', 'roberta', 'rocco', 'rochester', 'rock', 'rockacozy', 'rockaway', 'rockaways', 'rockefeller', 'rockfeller', 'rocks', 'rod', 'rodfred', 'roebling', 'roll', 'romain', 'romance', 'romantic', 'rono', 'roof', 'roofdeck', 'roofdecks', 'rooftop', 'rooftopjuly4th', 'rooftops', 'room', 'room1', 'room15min', 'room2', 'room20', 'room201', 'room3', 'room4', 'room4you', 'room6', 'room89', 'room_1', 'room_2', 'room_brooklyn', 'roomates', 'roomers', 'roomie', 'roomies', 'rooming', 'roommate', 'roommates', 'roomqtrain', 'rooms', 'roomwbackyard', 'roomy', 'room干净舒适花园房', 'room温馨漂亮大睡房', 'roon', 'rooom', 'roosevelt', 'rooster', 'roots', 'rosa', 'rosada', 'rosalee', 'rose', 'rosedale', 'roselle', 'roses', 'rosie', 'ross', 'rotation', 'rough', 'rounder', 'row', 'rowhouse', 'royal', 'royale', 'royalton', 'royalty', 'royaltyspace', 'rr', 'rsd', 'rstrnts', 'rt', 'ruby', 'rug', 'rule', 'rumc', 'runners', 'ruppe', 'rustic', 'rv', 'r地铁口', 's1', 's3rd', 's_luxury', 'saba', 'sabi', 'sac', 'sacred', 'safari', 'safe', 'safest', 'safety', 'sage', 'sahara', 'said', 'sailors', 'saint', 'sal', 'sala', 'sale', 'sally', 'salon', 'salt', 'sam', 'samaria', 'same', 'sams', 'san', 'sanctuary', 'sanctum', 'sanctury', 'sancutary', 'sand', 'sanjay', 'santa', 'santuary', 'sapphire', 'sara', 'saratoga', 'satin', 'satisfactory', 'sauana', 'sauna', 'sauve', 'save', 'saver', 'savings', 'say', 'sb', 'sbh', 'sbwy', 'scale', 'scan', 'scandanavian', 'scandi', 'scandinavean', 'scandinavian', 'scene', 'scenic', 'schomburg', 'school', 'schoolhouse', 'schools', 'science', 'scool', 'score', 'scream1', 'scream2', 'screen', 'screening', 'sculptor', 'sdb', 'se', 'sea', 'seagate', 'sean', 'seaport', 'seas', 'seaside', 'seasidenestnyc', 'season', 'seasonal', 'seasons', 'seats', 'seaux', 'seaview', 'sec', 'secluded', 'second', 'seconds', 'secret', 'secrete', 'secs', 'section', 'sectional', 'secure', 'secured', 'security', 'sedaon2', 'see', 'seeking', 'seen', 'sein', 'self', 'semaine', 'semi', 'semiprivate', 'semiprivatelivingroomtwinbed', 'sensational', 'sense', 'sep', 'separate', 'separated', 'seperate', 'seprat', 'sept', 'september', 'serene', 'serengeti', 'serenity', 'serenitysuite', 'serernity', 'seretse', 'seriene', 'serine', 'seriously', 'serv', 'service', 'serviced', 'services', 'set', 'setting', 'settings', 'setup', 'seule', 'seva', 'sevastis', 'seven', 'sex', 'sexy', 'seymour', 'sf', 'sgl', 'sgu', 'shabby', 'shack', 'shady', 'shag', 'shakti', 'shala', 'sham', 'shambhala', 'shanel', 'shang', 'shangri', 'shannan', 'shape', 'shaped', 'shar', 'sharbell', 'share', 'shared', 'sharedspace', 'shareroom', 'shares', 'sharif', 'sharing', 'sharp', 'shasha', 'shay', 'she', 'sheepshead', 'sheepsheadbay', 'shelf', 'shell', 'shelter', 'shelving', 'sheraton', 'shered', 'shh', 'shine', 'shineroom', 'shining', 'shinny', 'shiny', 'shipping', 'shiyi', 'shoebox', 'shoes', 'shoot', 'shoots', 'shop', 'shopping', 'shops', 'shore', 'short', 'shortstay', 'shortterm', 'shot', 'should', 'show', 'shower', 'showers', 'showroom', 'shows', 'shr', 'shu', 'shui', 'shunammite', 'shwick', 'shy', 'si', 'sid', 'side', 'side_', 'siempre', 'sienna', 'sights', 'signature', 'silent', 'silma', 'silver', 'silvertowers', 'simmons', 'simple', 'simplehome', 'simplicity', 'simplistic', 'simply', 'simulator', 'sinah', 'sinai', 'sing', 'singel', 'singer', 'singing', 'single', 'singlecouple', 'singles', 'singultus', 'sirenes', 'sirenes1', 'sisters', 'sit', 'site', 'sites', 'sitter', 'sitting', 'situated', 'siuh', 'six', 'sixth', 'sizable', 'size', 'sizeable', 'sizebed', 'sized', 'sju', 'sju大学', 'skate', 'skies', 'skip', 'skitchen', 'skool', 'sky', 'skyblue', 'skylight', 'skylighted', 'skylights', 'skyline', 'skylines', 'skylit', 'skyloft', 'skyscraper', 'skytrain', 'skyview', 'sl', 'sland', 'slate', 'sleek', 'sleep', 'sleep6', 'sleepeasyny', 'sleeper', 'sleeping', 'sleepover', 'sleeps', 'sleeps3', 'sleeps4', 'sleeps5', 'sleeps6', 'sleepytime', 'slice', 'slick', 'sliding', 'sloan', 'slope', 'slp', 'slr', 'sm', 'smack', 'small', 'smaller', 'smallest', 'smallish', 'smart', 'smartly', 'smarttv', 'smh', 'smile', 'smith', 'sml', 'smoke', 'smoker', 'smokers', 'smoking', 'snazzy', 'snooze', 'snowfort', 'snug', 'so', 'soak', 'soaked', 'soaking', 'soaring', 'sobecatown', 'sobro', 'social', 'sofa', 'sofabed', 'sofacama', 'sofas', 'soft', 'softest', 'sofá', 'sofácama', 'soha', 'soho', 'sohostyle', 'sol', 'solar', 'solarium', 'soleada', 'soleado', 'solitude', 'solo', 'solow', 'solstice', 'some', 'someone', 'something', 'sommwhere', 'son', 'sonder', 'songwriter', 'soon', 'sooth', 'soothing', 'sophisticated', 'sory', 'soul', 'soulful', 'sound', 'soundspace', 'south', 'southern', 'southfacing', 'southside', 'southslope', 'southwest', 'southwestern', 'spa', 'spabath', 'spac', 'space', 'spaced', 'spaceful', 'spaceous', 'spaces', 'spacey', 'spacieuse', 'spacieux', 'spacios', 'spacious', 'spaciousbedroom', 'spaciousbrownstone', 'spaciousprivate', 'spaciousroom', 'spacius', 'spacy', 'spaha', 'spain', 'spanish', 'spare', 'spark', 'sparkling', 'sparse', 'spatious', 'spce', 'spct', 'speak', 'speakeasy', 'speaker', 'speaking', 'special', 'specially', 'specials', 'specious', 'spectacular', 'speed', 'spell', 'spencer', 'spend', 'spezia', 'spice', 'spiral', 'spirit', 'spirited', 'spiritual', 'spirt', 'splash', 'splashed', 'splendid', 'splendor', 'split', 'spoon', 'spot', 'spotless', 'spotlessrock', 'spots', 'sprawling', 'spread', 'spri', 'spring', 'springbreak', 'springfield', 'sprout', 'spteps', 'spunky', 'sq', 'sqare', 'sqaure', 'sqf', 'sqft', 'sqr', 'sqre', 'sqrft', 'squ', 'squar', 'square', 'square1', 'squr', 'st', 'st_2室1厅_', 'sta', 'stable', 'stadium', 'staduim', 'stained', 'stainless', 'staircase', 'stairs', 'stairway', 'stakes', 'standalone', 'standard', 'standing', 'stanhope', 'stanza', 'stapleton', 'star', 'starck', 'stardust', 'stark', 'starlight', 'stars', 'start', 'starting', 'starts', 'startup', 'stash', 'stat', 'state', 'stately', 'staten', 'stateroom', 'station', 'stations', 'statn', 'statue', 'stay', 'staycation', 'staying', 'staylish', 'stayover', 'stays', 'std', 'stdio', 'stdm', 'steal', 'steam', 'steel', 'steet', 'steffanie', 'steiner', 'steinway', 'stella', 'stellar', 'step', 'stephen', 'steps', 'steps2subway', 'stepsfromtrain', 'sterling', 'steuben', 'stevie', 'stewart', 'stg', 'still', 'stivers', 'stmarks', 'stn', 'stock', 'stocked', 'stockholm', 'stockton', 'stone', 'stonehouse', 'stoner', 'stonewall', 'stop', 'stopper', 'stops', 'stopstomanhatn', 'storage', 'storefront', 'stores', 'storey', 'stories', 'story', 'stove', 'str', 'straight', 'strawberry', 'stream', 'street', 'stress', 'striking', 'string', 'striver', 'strivers', 'strolls', 'strong', 'stroom', 'stu', 'student', 'students', 'studio', 'studio47', 'studio519', 'studio_c2s', 'studioa', 'studioaptwithseparatekitchen', 'studiob', 'studiopark', 'studios', 'studio舒适洁净的保证', 'study', 'studying', 'stuff', 'stuido', 'stunner', 'stunning', 'stunningly', 'stuvesant', 'stuy', 'stuydio', 'stuytown', 'stuyvesant', 'sty', 'style', 'styled', 'stylez', 'style法拉盛中心', 'stylish', 'stylishly', 'stylist', 'stylized', 'styvesant', 'su', 'sub', 'subarriendo', 'subl', 'sublease', 'subleasing', 'sublet', 'subletting', 'sublevel', 'submarine', 'subto', 'suburb', 'suburban', 'suburbs', 'subw', 'subway', 'subway2', 'subwayemr7nw', 'subwaym', 'subways', 'subwayslp', 'subwaystation', 'subwy', 'sudio', 'suedajoy', 'sugar', 'sugarhill', 'suit', 'suit1', 'suit2', 'suit3', 'suitable', 'suite', 'suite1442', 'suitebeach', 'suites', 'suits', 'sukkot', 'sullivan', 'summer', 'summermonth', 'summertime', 'summerwintersgetaway', 'summit', 'sumpter', 'sumptin', 'sumptuous', 'sun', 'sunbathed', 'suncatcoffeerest', 'sundeck', 'sundecks', 'sundrenched', 'sundrenching', 'sunfilled', 'sunflower', 'sunlight', 'sunlights', 'sunlit', 'sunmmer', 'sunniest', 'sunnny', 'sunnsyide', 'sunny', 'sunnyhome', 'sunnyhome3', 'sunnyhome5', 'sunnyhome6', 'sunnyhome7', 'sunnyprivateroom', 'sunnyprivateterrace', 'sunnyroom', 'sunnyside', 'sunnywood', 'sunrise', 'sunroof', 'sunroom', 'sunset', 'sunsetpark', 'sunsets', 'sunshine', 'suny', 'super', 'superb', 'superbe', 'superbig', 'superbowl', 'superbowlsunday', 'supercomfortable', 'supercozy', 'supercute', 'superfast', 'superhost', 'superhosted', 'superior', 'superluxuryroom', 'supermarket', 'supersized', 'superstar', 'supersunny', 'supper', 'supperclub', 'support', 'supporting', 'supreme', 'sur', 'surburban', 'surf', 'surfer', 'surfers', 'surfin', 'surfing', 'surfside', 'surprise', 'surrealist', 'surrounded', 'surrounding', 'surroundings', 'susan', 'sustainable', 'sutton', 'suv', 'suy', 'suzy', 'suíte', 'svcd', 'svced', 'swanky', 'sweat', 'sweeping', 'sweet', 'sweetheart', 'sweets', 'sweetspot', 'swim', 'swimming', 'swimmingpool', 'swing', 'swoon', 'syle', 'symphony', 'synagogue', 'syncope', 'system', 'sz', 'séjour', 'söderläge', 't1f', 'taaffe', 'table', 'tabor', 'tag', 'tailored', 'take', 'takeit', 'taken', 'takeover', 'takes', 'taking', 'talk', 'tall', 'tamponade', 'tao', 'taste', 'tasteful', 'tastetic', 'tastic', 'tatami', 'tati', 'taxi', 'taylor', 'tays', 'tb1', 'tb3', 'tb4', 'te', 'tea', 'tech', 'techie', 'television', 'temp', 'temple', 'temporary', 'tempting', 'tempurpedic', 'ten', 'tenament', 'tenant', 'tenement', 'tennis', 'tent', 'ter', 'teranga', 'term', 'terr', 'terra', 'terrace', 'terraces', 'terrance', 'terrasse', 'terraza', 'terre', 'terrific', 'terrrace', 'tesla', 'tesoro', 'test', 'th', 'than', 'thank', 'thanksgiving', 'thanksgivings', 'that', 'thats', 'the', 'the7train', 'theater', 'theaterdist1', 'theaters', 'theatre', 'thebluehouse', 'thee', 'thegreystone', 'theheights', 'thelonious', 'theme', 'themed', 'then', 'therapy', 'there', 'theresa', 'thermarest', 'theupper', 'thies', 'thing', 'things', 'third', 'this', 'thomas', 'thompson', 'those', 'though', 'thoughtful', 'three', 'threes', 'thrilling', 'thriving', 'throggs', 'throgsneck', 'throop', 'throsneck', 'through', 'thru', 'thxgiving', 'ti', 'ticket', 'tickets', 'tidy', 'tiene', 'tier', 'tiffany', 'tiger', 'tight', 'til', 'till', 'tim', 'timber', 'timbuktu', 'time', 'timeless', 'timeout', 'times', 'timeshare', 'timesq', 'timesqare', 'timesqaure', 'timesquare', 'timessq', 'timessquare', 'timessquareny', 'tin', 'ting', 'tinkerbell', 'tiny', 'tinyhome', 'tip', 'tips', 'tj', 'tms', 'to', 'toall', 'today', 'toddler', 'toddlers', 'todo', 'todt', 'together', 'toilet', 'tom', 'tomanhattan', 'tompkin', 'tompkins', 'tones', 'tonhouse', 'tonight', 'tons', 'tonwhouse', 'tony', 'too', 'top', 'topfloor', 'toplocation', 'torre', 'tosubway', 'total', 'totally', 'totime', 'totimes', 'toto', 'totrain', 'tottenville', 'touch', 'touchdown', 'touches', 'tour', 'touring', 'tourism', 'tourist', 'tourists', 'tours', 'towall', 'tower', 'towers', 'town', 'town1', 'townhome', 'townhouse', 'townhousupper', 'townprivate', 'tq', 'tr', 'tra', 'track', 'tract', 'trad', 'trade', 'traditional', 'train', 'train2', 'train7', 'trainjzm', 'trainline', 'trains', 'trains近地铁单房', 'trampoline', 'tranquality', 'tranquil', 'tranquilidad', 'tranquility', 'tranquilo', 'trans', 'transfer', 'transformed', 'transient', 'transit', 'transp', 'transpo', 'transpor', 'transporation', 'transporations', 'transport', 'transportation', 'transportations', 'travel', 'travelbloggers', 'traveler', 'travelers', 'travelholic', 'traveling', 'traveller', 'travellers', 'travelr', 'travels', 'treasure', 'treat', 'treatment', 'tree', 'treefort', 'treehouse', 'treeline', 'treelined', 'trees', 'treetop', 'treetops', 'trelawney', 'tremendous', 'trendi', 'trendiest', 'trending', 'trendy', 'trendy4br', 'trendyneighborhood', 'tri', 'trian', 'triangle', 'tribeca', 'tribute', 'trigeminal', 'trim', 'trip', 'triple', 'triplex', 'tristan', 'trn', 'tropical', 'troutman', 'true', 'true2br', 'truly', 'trundle', 'try', 'tryon', 'ts', 'tsq', 'tsquare', 'tu', 'tub', 'tuck', 'tucked', 'tudor', 'tulsi', 'tulum', 'tune', 'tuo', 'turmoil', 'turn', 'turned', 'turquoise', 'turret', 'turtle', 'tuscan', 'tv', 'tvåa', 'tw', 'twenty', 'twentyone', 'twice', 'twin', 'twinbeds', 'twins', 'twinxl', 'twist', 'two', 'type', 'typical', 'tú', 'u1', 'u2', 'u3', 'uber', 'ubicación', 'ubicada', 'ues', 'ul', 'ultimate', 'ultra', 'ultramodern', 'ummer', 'un', 'una', 'unbeatable', 'unbelievable', 'unbelieveable', 'uncluttered', 'unconventional', 'und', 'under', 'underground', 'underhill', 'underneath', 'unfinished', 'unforgettable', 'unfurn', 'unfurnished', 'unheard', 'uni', 'uni2', 'unicorn', 'uninterrupted', 'union', 'unionsq', 'unionsqr', 'unionsquare', 'unique', 'unit', 'united', 'units', 'univ', 'univer', 'univers', 'universe', 'universit', 'university', 'univiersity', 'uniware', 'unlimited', 'unlisted', 'unobstructed', 'unos', 'unparalleled', 'unpretentious', 'unprivate', 'unreal', 'unshared', 'unsq', 'until', 'unusual', 'unwind', 'unwinding', 'up', 'up_2', 'upcoming', 'updated', 'uper', 'upgrade', 'upgraded', 'upon', 'upper', 'upperbest', 'uppereast', 'uppereastside', 'upperwest', 'upperwestluxury', 'upperwestside', 'ups', 'upscale', 'upstairs', 'upstate', 'upto', 'uptonw', 'uptown', 'uptownoasis', 'uptwn', 'upw', 'upwest', 'upws', 'ur', 'urban', 'uriel', 'urself', 'us', 'usa', 'usd', 'use', 'used', 'usq', 'usw', 'utica', 'utilities', 'utopia', 'utopic', 'uws', 'vacate', 'vacation', 'vacationers', 'vacationing', 'vacay', 'vacilanda', 'val', 'valet', 'valley', 'value', 'van', 'vanderbilt', 'vanderveer', 'vanilla', 'vanlife', 'varied', 'varrazano', 'vast', 'vault', 'veg', 'vegan', 'vegetarian', 'veggies', 'velvet', 'vely', 'venerable', 'veneta', 'venice', 'ventura', 'venue', 'venues', 'vera', 'veranda', 'verde', 'verita', 'verna', 'vernon', 'verona', 'verrazano', 'verrezzano', 'versace', 'versaille', 'versatile', 'verve', 'very', 'veteran', 'vi', 'via', 'viagem', 'viajeras', 'viajeros', 'vibe', 'vibes', 'vibey', 'vibrant', 'vic', 'vickie', 'vicky客栈1', 'vicky客栈2', 'vicky客栈3', 'vicky客栈5', 'vics', 'victorian', 'vida', 'video', 'videos', 'vie', 'view', 'viewing', 'views', 'vil', 'vilage', 'vilg', 'vill', 'villa', 'village', 'villager', 'villagetownhouse', 'ville', 'villiage', 'villlage', 'vinegar', 'vintage', 'vinyl', 'violet', 'vip', 'visit', 'visiting', 'visitor', 'visitors', 'vista', 'vistas', 'vita', 'vivacious', 'vivid', 'vivo', 'vj', 'vlg', 'voila', 'voilet', 'voted', 'vous', 'vu', 'vue', 'vybz', 'w116th', 'w16th', 'w48', 'w48th', 'w50', 'w70', 'w70s', 'w71st', 'w80', 'wa', 'wabi', 'wac', 'wahe', 'wahi', 'wait', 'waiting', 'wake', 'wakefield', 'walk', 'walk2boat', 'walkable', 'walking', 'walks', 'walkup', 'wall', 'wallace', 'walled', 'walls', 'wallstreet', 'walter', 'wander', 'wanderlust', 'wang', 'wanna', 'want', 'wanted', 'war', 'warehouse', 'warm', 'warmth', 'warner', 'warrior', 'warwick', 'was', 'wash', 'washer', 'washerdryer', 'washheights', 'washing', 'washingtom', 'washington', 'washingtonave', 'washingtonheights', 'waste', 'water', 'waterfrnt', 'waterfront', 'waters', 'waterside', 'waterview', 'watson', 'waverly', 'way', 'waycross', 'wayward', 'wb', 'wbg', 'wbrg', 'wburg', 'wc', 'wd', 'wdful', 'we', 'wea', 'weary', 'website', 'wedding', 'week', 'weekday', 'weekend', 'weekender', 'weekenders', 'weekends', 'weeklong', 'weekly', 'weeks', 'welcome', 'welcomed', 'welcomes', 'welcoming', 'welive', 'well', 'wellness', 'wendy', 'were', 'wes', 'weside', 'west', 'west21st', 'west55th', 'westchester', 'westelm', 'western', 'westharlem', 'westside', 'westvillage', 'wework', 'wf', 'wfi', 'wfree', 'wg', 'what', 'whatever', 'wheelchair', 'when', 'where', 'while', 'whimsical', 'whirlpool', 'white', 'whitestone', 'whitewashed', 'whitney', 'who', 'whole', 'wi', 'wick', 'wicked', 'wide', 'wielingen', 'wife', 'wifi', 'wiggle', 'wigwam', 'wilburg', 'wild', 'wildlife', 'wiliamsburg', 'wilibrg', 'will', 'willamsburg', 'willi', 'william', 'williambsburg', 'williambsurg', 'williamburg', 'williamsb', 'williamsberg', 'williamsbourg', 'williamsbr', 'williamsbrg', 'williamsbu', 'williamsbug', 'williamsburg', 'williamsburg2', 'williamsburgbrooklynprivatebedroom', 'williamsburggggg', 'williamsburgh', 'williamsburgs', 'williamsubrg', 'williamsurg', 'williamsville', 'williansburg', 'williasmburg', 'willimasburg', 'willimsbrg', 'willimsburg', 'willlamsburg', 'willoughby', 'willy', 'willyb', 'willyburg', 'wilson', 'win', 'wind', 'window', 'windowed', 'windowlit', 'windows', 'windowside', 'windsong', 'windsor', 'wine', 'wing', 'wingate', 'winged', 'winning', 'wins', 'winter', 'winterbreak', 'wintertime', 'wisely', 'witchy', 'with', 'within', 'without', 'withtvwasher', 'withwifi', 'wizard', 'wk', 'wkd', 'wkend', 'wknd', 'wks', 'wlmsbrg', 'wmsbrg', 'wmsburg', 'wohnung', 'woho', 'woman', 'womb', 'women', 'won', 'wonder', 'wonderful', 'wonderfull', 'wonderfully', 'wonderland', 'wonderlust', 'wonderous', 'wood', 'woodbine', 'wooded', 'wooden', 'woodhaven', 'woodlawn', 'woodruffe', 'woodside', 'woodside61', 'woodsy', 'woodworker', 'woody', 'woodyallen', 'work', 'workdesk', 'workers', 'working', 'works', 'workspace', 'world', 'worldbrooklyn', 'worldclass', 'worlds', 'worldtrade', 'worth', 'would', 'wow', 'wraparound', 'write', 'writer', 'writers', 'wroof', 'wshr', 'wsp', 'wt', 'wtc', 'wterrace', 'wv', 'wvillage', 'wvillgmtpkgchls', 'wyck', 'wyckoff', 'wykof3', 'wykof4', 'wykof8', 'wyn', 'wyndham', 'x12', 'x14', 'xenon', 'xl', 'xl1br', 'xlarge', 'xlg', 'xll', 'xlrg', 'xmas', 'xpresstrain', 'xthank', 'xtra', 'xtralarge', 'xxx', 'yacht', 'yahmanscrashpads', 'yanke', 'yankee', 'yankees', 'yanks', 'yard', 'yards', 'yaya', 'yd', 'year', 'years', 'yellow', 'yet', 'yey', 'yi', 'yiannis', 'yinka', 'yoga', 'yogi', 'yogin', 'york', 'yorker', 'yorkers', 'yorkish', 'yorkville', 'you', 'young', 'your', 'yours', 'yourself', 'yourselfg', 'youth', 'yr', 'yrds', 'yrs', 'ysa', 'yu', 'yuge', 'yurt', 'yve', 'zand', 'zebra', 'zee', 'zen', 'zenful', 'zero', 'ziggy', 'zimmer', 'zions', 'zippy', 'zohar', 'zona', 'zone', 'zoo', 'zzz', 'áines', 'énorme', 'étage', 'über', 'übercharmer', 'śakti', 'балконом', 'бруклине', 'две', 'для', 'дорогая', 'йорке', 'комната', 'комнате', 'кровати', 'манхеттене', 'марта', 'место', 'на', 'не', 'нью', 'октября', 'отличном', 'пары', 'раёне', 'русский', 'светлая', 'сдаётся', 'февраля', 'בוויליאמסבורג', 'דירה', 'עברית', 'שווה', 'ღღღsteps', 'ღღღultimate', '三楼阁楼', '下楼即是地铁站', '与众不同', '与哥大咫尺之遥', '两个房间用一个卫生间', '中城西豪华客厅', '中央公园旁的单间', '中央公园旁的现代公寓', '中英文服务', '了解更多旅游', '交通便利', '交通方便', '交通购物两便利大房间', '仅限女性入住', '位于北上远离开辆', '位于地狱厨房', '位于曼哈顿岛上125街broadway性价比超高房间短租', '位于曼哈顿纽约上城', '位置棒棒', '佳源家庭旅馆', '佳源家庭旅馆双床房间', '佳源家庭旅馆套房', '個室', '值得一试', '停车容易', '停车方便', '像纽约有个温馨的家', '全新', '全独立套房十分钟法拉盛中心', '共用卫生间', '出门就是地铁站', '切尔西区chesea', '别墅二楼主卧房', '别墅二楼卧房', '别墅的地下室', '到曼哈頓只要30分鐘', '到曼哈顿方便', '单人间', '单房干净舒适', '单间双人房', '厨卫', '双床', '可愛いﾚﾝｶﾞの壁のお部屋', '和缘国旅', '和缘浪漫民宿', '和缘特色浪漫房', '和缘阳光民宿', '哥伦比亚大学附近公寓内客厅一间', '哥伦比亚大学附近步行3分钟高档公寓主卧暑期降价转租', '哥大附近', '哥大附近卧室', '唐人街公寓', '商务最佳', '地段超好', '地鐵公車便利', '地铁', '大双人房', '天使的温暖', '套房', '奢华大套房', '女性の方希望', '安全舒適的家', '安静', '安静干净', '安静整洁', '安靜公寓', '完全個室', '家具新', '家庭式單間雙人床k', '家庭式旅馆獨立衛生間套房k', '家庭式獨立衛生間套房g', '家庭式雙人房k', '家庭式雙床房g', '家庭风', '宽敞明亮', '専用ﾊﾞｽﾄｲﾚ', '小房间', '帝国大夏', '带按摩浴缸和淋浴的独立卫生间', '干净', '干净卫生的环境房', '幸福小屋', '幸运旅程', '幸运纽约客', '性价比高', '情侣请私聊', '探亲', '提供免费矿泉水可乐', '新一处客居', '新精緻近公園舒適含窗半地下公寓', '方便', '方便停车', '旅客之家', '旅游', '旅行客栈', '旅途中的家', '无其他费用', '明るいお部屋', '明亮', '明亮大窗', '是你入住的最好选择', '暑假短租', '暮らしてみませんか', '曼哈顿', '曼哈顿108街转租', '曼哈顿上西区林肯中心附近优质公寓短租', '曼哈顿上西区比邻哥伦比亚大学一室一厅可住2', '曼哈顿奢侈公寓次卧manhattan', '曼哈顿帝国大厦', '曼哈顿景色豪华公寓', '曼哈顿林肯中心一室一厅', '曼岛中城', '机场和地铁', '林肯中心', '森林小丘别墅', '欢迎中国朋友来住', '欢迎中国游客短租', '欢迎订房', '正面能量', '步行3分鐘到超市', '步行9分钟到法拉盛缅街中心的电梯房', '步行9分钟到缅街中心的独立电梯房', '步行地铁两分钟', '民宿', '汤姆公寓', '汤母小屋', '法拉盛', '法拉盛summer家', '法拉盛中心公寓楼高层', '法拉盛中心單人房间', '法拉盛中心地段单身客房', '法拉盛中心新大楼2卧', '法拉盛中心温馨两房两厅公寓', '法拉盛中心私人房間獨立衛浴', '法拉盛中心近地铁舒适单房', '法拉盛唯美独立房间', '法拉盛市中心明亮干净的私人房间', '法拉盛步行7号地铁7分钟左右单房', '法拉盛步行地铁10分钟单房', '法拉盛步行地铁站', '法拉盛步行地铁站8分钟带独立卫生间套房', '法拉盛温馨亲子房', '法拉盛美丽豪华大套房', '法拉盛舒适轻奢套房', '法拉盛花园独立屋entire', '法拉盛近地铁舒适单房', '法拉盛高档', '浪漫民宿', '浴室共用', '温暖的双人房间', '温暖的小屋', '温馨双人房', '温馨双单人床小屋', '温馨如家', '温馨小宅', '温馨小屋', '温馨小筑', '温馨方便cozy', '温馨旅店', '温馨的家', '温馨舒适双人房', '溫馨大套房', '独立出入', '独立出入basement套房出租', '独立洗手间privatebathroom', '独立洗手间和马桶', '獨一無二的紐約閣樓', '环境优美', '电梯公寓', '留学生首选', '皇后区', '皇后区大房', '皇后区法拉盛中心', '皇后区豪华园林式独立别墅适合家庭出游理想住宿自由畅享私家空间', '离缅街步行9分钟的电梯单间', '离缅街步行9分钟的电梯独立房间', '私人空间', '空港10分', '窗下凉台花园房', '窗外美景', '简单的四房一厅两卫生间', '粉色上房', '紐約哥大週邊優質短租', '紐約民宿', '紐約清雅居', '緑が多く安全なﾌﾞﾙｯｸﾘﾝﾊﾟｰｸｽﾛｰﾌﾟの庭付き貸切ｱﾊﾟｰﾄ', '纽约', '纽约三室一厅两全浴带独立厨房和停车位', '纽约之家', '纽约单一家庭住宅', '纽约多单元大厦', '纽约客民宿', '纽约市曼哈顿中城east', '纽约干净大房近地铁站', '纽约曼哈顿', '纽约曼哈顿中城临近高校舒适公寓', '纽约森林小丘简约文艺客舍', '纽约法拉盛民宿客栈', '纽约的家', '纽约罗岛roosevelt', '纽约长岛市最新豪华网红楼王jackson', '网快', '罗岛一间卧室出租', '罗岛曼哈顿短租', '美国', '美网赛事', '美麗之家', '自己的小房间', '舒适单人房', '舒适双人房带阳台', '舒适温馨小屋两间', '舒适的带空调单间', '舒适的阳光朝南单间', '舒适阳光房', '西藏民居', '设施全', '豪华卧室', '豪华双人间', '豪华套间', '走路四分钟到地铁站', '超级便利的豪华公寓次卧', '近jfk', '近一切', '近哥伦比亚大学超方便短租房', '近地铁及市中心', '近超市', '金城发suit3', '金城发双人房', '金城发大床房', '金色上房', '长岛豪华公寓单间卧室低价短租交通无敌便利', '闹市中静怡如家的空间', '阳光之家', '阳光民宿', '阳光温馨单房', '阳台大双人房', '限1', '限女生', '露西套房', '靓房', '靠近地铁站', '靠近机场', '靠近机场交通方便双人房', '靠近机场交通方便明亮大房间', '靠近机场交通购物两便利房间', '韓城', '音樂之家', '駅から徒歩3分', '駅から徒歩3分の好立地', '駅から徒歩4分でどこに行くのにも便利な場所', '駅徒歩5分の好立地なお部屋です', '驿站', '高级住宅区', '鬧中取靜', '거리', '건물', '고급', '꿈꾸는', '뉴욕의', '도어맨', '따뜻한', '맨하튼', '소호', '숙소', '스튜디오', '안전하고', '웨스트빌리지에', '위치한', '작은', '조용한', '주변', '한성', 'ｱｸｾｽ抜群', 'ｳｨﾘｱﾑｽﾞﾊﾞｰｸﾞから3駅', 'ｳｨﾘｱﾑｽﾞﾊﾞｰｸﾞのかわいいお部屋です2', 'ｷｯﾁﾝ付き', 'ｷﾚｲなお部屋', 'ﾆｭｰﾖｰｸの中心', 'ﾌﾞﾙｯｸﾘﾝの大人気ｴﾘｱ', 'ﾌﾞﾙｯｸﾘﾝの大人気ｴﾘｱのｳｨﾘｱﾑｽﾞﾊﾞｰｸﾞから3駅', 'ﾏﾝﾊｯﾀﾝ', 'ﾏﾝﾊｯﾀﾝ10分', 'ﾐｯﾄﾞﾀｳﾝｳｴｽﾄｻｲﾄﾞ']\n"
          ],
          "name": "stdout"
        }
      ]
    },
    {
      "cell_type": "code",
      "metadata": {
        "id": "UTQqK__Ya-w6",
        "colab_type": "code",
        "colab": {
          "base_uri": "https://localhost:8080/",
          "height": 627
        },
        "outputId": "7ff5fc80-3735-40d6-f653-65a2e48ecb50"
      },
      "source": [
        "# DataFrame\n",
        "dtm = pd.DataFrame(dtm.todense(), columns=vectorizer.get_feature_names())\n",
        "\n",
        "# CHECK:\n",
        "print(dtm.shape)\n",
        "dtm.head()"
      ],
      "execution_count": null,
      "outputs": [
        {
          "output_type": "stream",
          "text": [
            "(48895, 8057)\n"
          ],
          "name": "stdout"
        },
        {
          "output_type": "execute_result",
          "data": {
            "text/html": [
              "<div>\n",
              "<style scoped>\n",
              "    .dataframe tbody tr th:only-of-type {\n",
              "        vertical-align: middle;\n",
              "    }\n",
              "\n",
              "    .dataframe tbody tr th {\n",
              "        vertical-align: top;\n",
              "    }\n",
              "\n",
              "    .dataframe thead th {\n",
              "        text-align: right;\n",
              "    }\n",
              "</style>\n",
              "<table border=\"1\" class=\"dataframe\">\n",
              "  <thead>\n",
              "    <tr style=\"text-align: right;\">\n",
              "      <th></th>\n",
              "      <th>00</th>\n",
              "      <th>000</th>\n",
              "      <th>000sf</th>\n",
              "      <th>000sqft</th>\n",
              "      <th>001</th>\n",
              "      <th>001ll</th>\n",
              "      <th>002</th>\n",
              "      <th>003</th>\n",
              "      <th>004</th>\n",
              "      <th>005</th>\n",
              "      <th>01</th>\n",
              "      <th>01401</th>\n",
              "      <th>02</th>\n",
              "      <th>03</th>\n",
              "      <th>04</th>\n",
              "      <th>05</th>\n",
              "      <th>0min</th>\n",
              "      <th>10</th>\n",
              "      <th>100</th>\n",
              "      <th>1000</th>\n",
              "      <th>1000sq</th>\n",
              "      <th>1000sqf</th>\n",
              "      <th>10017</th>\n",
              "      <th>100mbps</th>\n",
              "      <th>100th</th>\n",
              "      <th>101</th>\n",
              "      <th>102</th>\n",
              "      <th>10222</th>\n",
              "      <th>10223</th>\n",
              "      <th>10226</th>\n",
              "      <th>10248</th>\n",
              "      <th>10250</th>\n",
              "      <th>10253</th>\n",
              "      <th>10256</th>\n",
              "      <th>10257</th>\n",
              "      <th>10262</th>\n",
              "      <th>10263</th>\n",
              "      <th>10264</th>\n",
              "      <th>10268</th>\n",
              "      <th>10273</th>\n",
              "      <th>...</th>\n",
              "      <th>靠近机场交通方便明亮大房间</th>\n",
              "      <th>靠近机场交通购物两便利房间</th>\n",
              "      <th>韓城</th>\n",
              "      <th>音樂之家</th>\n",
              "      <th>駅から徒歩3分</th>\n",
              "      <th>駅から徒歩3分の好立地</th>\n",
              "      <th>駅から徒歩4分でどこに行くのにも便利な場所</th>\n",
              "      <th>駅徒歩5分の好立地なお部屋です</th>\n",
              "      <th>驿站</th>\n",
              "      <th>高级住宅区</th>\n",
              "      <th>鬧中取靜</th>\n",
              "      <th>거리</th>\n",
              "      <th>건물</th>\n",
              "      <th>고급</th>\n",
              "      <th>꿈꾸는</th>\n",
              "      <th>뉴욕의</th>\n",
              "      <th>도어맨</th>\n",
              "      <th>따뜻한</th>\n",
              "      <th>맨하튼</th>\n",
              "      <th>소호</th>\n",
              "      <th>숙소</th>\n",
              "      <th>스튜디오</th>\n",
              "      <th>안전하고</th>\n",
              "      <th>웨스트빌리지에</th>\n",
              "      <th>위치한</th>\n",
              "      <th>작은</th>\n",
              "      <th>조용한</th>\n",
              "      <th>주변</th>\n",
              "      <th>한성</th>\n",
              "      <th>ｱｸｾｽ抜群</th>\n",
              "      <th>ｳｨﾘｱﾑｽﾞﾊﾞｰｸﾞから3駅</th>\n",
              "      <th>ｳｨﾘｱﾑｽﾞﾊﾞｰｸﾞのかわいいお部屋です2</th>\n",
              "      <th>ｷｯﾁﾝ付き</th>\n",
              "      <th>ｷﾚｲなお部屋</th>\n",
              "      <th>ﾆｭｰﾖｰｸの中心</th>\n",
              "      <th>ﾌﾞﾙｯｸﾘﾝの大人気ｴﾘｱ</th>\n",
              "      <th>ﾌﾞﾙｯｸﾘﾝの大人気ｴﾘｱのｳｨﾘｱﾑｽﾞﾊﾞｰｸﾞから3駅</th>\n",
              "      <th>ﾏﾝﾊｯﾀﾝ</th>\n",
              "      <th>ﾏﾝﾊｯﾀﾝ10分</th>\n",
              "      <th>ﾐｯﾄﾞﾀｳﾝｳｴｽﾄｻｲﾄﾞ</th>\n",
              "    </tr>\n",
              "  </thead>\n",
              "  <tbody>\n",
              "    <tr>\n",
              "      <th>0</th>\n",
              "      <td>0.0</td>\n",
              "      <td>0.0</td>\n",
              "      <td>0.0</td>\n",
              "      <td>0.0</td>\n",
              "      <td>0.0</td>\n",
              "      <td>0.0</td>\n",
              "      <td>0.0</td>\n",
              "      <td>0.0</td>\n",
              "      <td>0.0</td>\n",
              "      <td>0.0</td>\n",
              "      <td>0.0</td>\n",
              "      <td>0.0</td>\n",
              "      <td>0.0</td>\n",
              "      <td>0.0</td>\n",
              "      <td>0.0</td>\n",
              "      <td>0.0</td>\n",
              "      <td>0.0</td>\n",
              "      <td>0.0</td>\n",
              "      <td>0.0</td>\n",
              "      <td>0.0</td>\n",
              "      <td>0.0</td>\n",
              "      <td>0.0</td>\n",
              "      <td>0.0</td>\n",
              "      <td>0.0</td>\n",
              "      <td>0.0</td>\n",
              "      <td>0.0</td>\n",
              "      <td>0.0</td>\n",
              "      <td>0.0</td>\n",
              "      <td>0.0</td>\n",
              "      <td>0.0</td>\n",
              "      <td>0.0</td>\n",
              "      <td>0.0</td>\n",
              "      <td>0.0</td>\n",
              "      <td>0.0</td>\n",
              "      <td>0.0</td>\n",
              "      <td>0.0</td>\n",
              "      <td>0.0</td>\n",
              "      <td>0.0</td>\n",
              "      <td>0.0</td>\n",
              "      <td>0.0</td>\n",
              "      <td>...</td>\n",
              "      <td>0.0</td>\n",
              "      <td>0.0</td>\n",
              "      <td>0.0</td>\n",
              "      <td>0.0</td>\n",
              "      <td>0.0</td>\n",
              "      <td>0.0</td>\n",
              "      <td>0.0</td>\n",
              "      <td>0.0</td>\n",
              "      <td>0.0</td>\n",
              "      <td>0.0</td>\n",
              "      <td>0.0</td>\n",
              "      <td>0.0</td>\n",
              "      <td>0.0</td>\n",
              "      <td>0.0</td>\n",
              "      <td>0.0</td>\n",
              "      <td>0.0</td>\n",
              "      <td>0.0</td>\n",
              "      <td>0.0</td>\n",
              "      <td>0.0</td>\n",
              "      <td>0.0</td>\n",
              "      <td>0.0</td>\n",
              "      <td>0.0</td>\n",
              "      <td>0.0</td>\n",
              "      <td>0.0</td>\n",
              "      <td>0.0</td>\n",
              "      <td>0.0</td>\n",
              "      <td>0.0</td>\n",
              "      <td>0.0</td>\n",
              "      <td>0.0</td>\n",
              "      <td>0.0</td>\n",
              "      <td>0.0</td>\n",
              "      <td>0.0</td>\n",
              "      <td>0.0</td>\n",
              "      <td>0.0</td>\n",
              "      <td>0.0</td>\n",
              "      <td>0.0</td>\n",
              "      <td>0.0</td>\n",
              "      <td>0.0</td>\n",
              "      <td>0.0</td>\n",
              "      <td>0.0</td>\n",
              "    </tr>\n",
              "    <tr>\n",
              "      <th>1</th>\n",
              "      <td>0.0</td>\n",
              "      <td>0.0</td>\n",
              "      <td>0.0</td>\n",
              "      <td>0.0</td>\n",
              "      <td>0.0</td>\n",
              "      <td>0.0</td>\n",
              "      <td>0.0</td>\n",
              "      <td>0.0</td>\n",
              "      <td>0.0</td>\n",
              "      <td>0.0</td>\n",
              "      <td>0.0</td>\n",
              "      <td>0.0</td>\n",
              "      <td>0.0</td>\n",
              "      <td>0.0</td>\n",
              "      <td>0.0</td>\n",
              "      <td>0.0</td>\n",
              "      <td>0.0</td>\n",
              "      <td>0.0</td>\n",
              "      <td>0.0</td>\n",
              "      <td>0.0</td>\n",
              "      <td>0.0</td>\n",
              "      <td>0.0</td>\n",
              "      <td>0.0</td>\n",
              "      <td>0.0</td>\n",
              "      <td>0.0</td>\n",
              "      <td>0.0</td>\n",
              "      <td>0.0</td>\n",
              "      <td>0.0</td>\n",
              "      <td>0.0</td>\n",
              "      <td>0.0</td>\n",
              "      <td>0.0</td>\n",
              "      <td>0.0</td>\n",
              "      <td>0.0</td>\n",
              "      <td>0.0</td>\n",
              "      <td>0.0</td>\n",
              "      <td>0.0</td>\n",
              "      <td>0.0</td>\n",
              "      <td>0.0</td>\n",
              "      <td>0.0</td>\n",
              "      <td>0.0</td>\n",
              "      <td>...</td>\n",
              "      <td>0.0</td>\n",
              "      <td>0.0</td>\n",
              "      <td>0.0</td>\n",
              "      <td>0.0</td>\n",
              "      <td>0.0</td>\n",
              "      <td>0.0</td>\n",
              "      <td>0.0</td>\n",
              "      <td>0.0</td>\n",
              "      <td>0.0</td>\n",
              "      <td>0.0</td>\n",
              "      <td>0.0</td>\n",
              "      <td>0.0</td>\n",
              "      <td>0.0</td>\n",
              "      <td>0.0</td>\n",
              "      <td>0.0</td>\n",
              "      <td>0.0</td>\n",
              "      <td>0.0</td>\n",
              "      <td>0.0</td>\n",
              "      <td>0.0</td>\n",
              "      <td>0.0</td>\n",
              "      <td>0.0</td>\n",
              "      <td>0.0</td>\n",
              "      <td>0.0</td>\n",
              "      <td>0.0</td>\n",
              "      <td>0.0</td>\n",
              "      <td>0.0</td>\n",
              "      <td>0.0</td>\n",
              "      <td>0.0</td>\n",
              "      <td>0.0</td>\n",
              "      <td>0.0</td>\n",
              "      <td>0.0</td>\n",
              "      <td>0.0</td>\n",
              "      <td>0.0</td>\n",
              "      <td>0.0</td>\n",
              "      <td>0.0</td>\n",
              "      <td>0.0</td>\n",
              "      <td>0.0</td>\n",
              "      <td>0.0</td>\n",
              "      <td>0.0</td>\n",
              "      <td>0.0</td>\n",
              "    </tr>\n",
              "    <tr>\n",
              "      <th>2</th>\n",
              "      <td>0.0</td>\n",
              "      <td>0.0</td>\n",
              "      <td>0.0</td>\n",
              "      <td>0.0</td>\n",
              "      <td>0.0</td>\n",
              "      <td>0.0</td>\n",
              "      <td>0.0</td>\n",
              "      <td>0.0</td>\n",
              "      <td>0.0</td>\n",
              "      <td>0.0</td>\n",
              "      <td>0.0</td>\n",
              "      <td>0.0</td>\n",
              "      <td>0.0</td>\n",
              "      <td>0.0</td>\n",
              "      <td>0.0</td>\n",
              "      <td>0.0</td>\n",
              "      <td>0.0</td>\n",
              "      <td>0.0</td>\n",
              "      <td>0.0</td>\n",
              "      <td>0.0</td>\n",
              "      <td>0.0</td>\n",
              "      <td>0.0</td>\n",
              "      <td>0.0</td>\n",
              "      <td>0.0</td>\n",
              "      <td>0.0</td>\n",
              "      <td>0.0</td>\n",
              "      <td>0.0</td>\n",
              "      <td>0.0</td>\n",
              "      <td>0.0</td>\n",
              "      <td>0.0</td>\n",
              "      <td>0.0</td>\n",
              "      <td>0.0</td>\n",
              "      <td>0.0</td>\n",
              "      <td>0.0</td>\n",
              "      <td>0.0</td>\n",
              "      <td>0.0</td>\n",
              "      <td>0.0</td>\n",
              "      <td>0.0</td>\n",
              "      <td>0.0</td>\n",
              "      <td>0.0</td>\n",
              "      <td>...</td>\n",
              "      <td>0.0</td>\n",
              "      <td>0.0</td>\n",
              "      <td>0.0</td>\n",
              "      <td>0.0</td>\n",
              "      <td>0.0</td>\n",
              "      <td>0.0</td>\n",
              "      <td>0.0</td>\n",
              "      <td>0.0</td>\n",
              "      <td>0.0</td>\n",
              "      <td>0.0</td>\n",
              "      <td>0.0</td>\n",
              "      <td>0.0</td>\n",
              "      <td>0.0</td>\n",
              "      <td>0.0</td>\n",
              "      <td>0.0</td>\n",
              "      <td>0.0</td>\n",
              "      <td>0.0</td>\n",
              "      <td>0.0</td>\n",
              "      <td>0.0</td>\n",
              "      <td>0.0</td>\n",
              "      <td>0.0</td>\n",
              "      <td>0.0</td>\n",
              "      <td>0.0</td>\n",
              "      <td>0.0</td>\n",
              "      <td>0.0</td>\n",
              "      <td>0.0</td>\n",
              "      <td>0.0</td>\n",
              "      <td>0.0</td>\n",
              "      <td>0.0</td>\n",
              "      <td>0.0</td>\n",
              "      <td>0.0</td>\n",
              "      <td>0.0</td>\n",
              "      <td>0.0</td>\n",
              "      <td>0.0</td>\n",
              "      <td>0.0</td>\n",
              "      <td>0.0</td>\n",
              "      <td>0.0</td>\n",
              "      <td>0.0</td>\n",
              "      <td>0.0</td>\n",
              "      <td>0.0</td>\n",
              "    </tr>\n",
              "    <tr>\n",
              "      <th>3</th>\n",
              "      <td>0.0</td>\n",
              "      <td>0.0</td>\n",
              "      <td>0.0</td>\n",
              "      <td>0.0</td>\n",
              "      <td>0.0</td>\n",
              "      <td>0.0</td>\n",
              "      <td>0.0</td>\n",
              "      <td>0.0</td>\n",
              "      <td>0.0</td>\n",
              "      <td>0.0</td>\n",
              "      <td>0.0</td>\n",
              "      <td>0.0</td>\n",
              "      <td>0.0</td>\n",
              "      <td>0.0</td>\n",
              "      <td>0.0</td>\n",
              "      <td>0.0</td>\n",
              "      <td>0.0</td>\n",
              "      <td>0.0</td>\n",
              "      <td>0.0</td>\n",
              "      <td>0.0</td>\n",
              "      <td>0.0</td>\n",
              "      <td>0.0</td>\n",
              "      <td>0.0</td>\n",
              "      <td>0.0</td>\n",
              "      <td>0.0</td>\n",
              "      <td>0.0</td>\n",
              "      <td>0.0</td>\n",
              "      <td>0.0</td>\n",
              "      <td>0.0</td>\n",
              "      <td>0.0</td>\n",
              "      <td>0.0</td>\n",
              "      <td>0.0</td>\n",
              "      <td>0.0</td>\n",
              "      <td>0.0</td>\n",
              "      <td>0.0</td>\n",
              "      <td>0.0</td>\n",
              "      <td>0.0</td>\n",
              "      <td>0.0</td>\n",
              "      <td>0.0</td>\n",
              "      <td>0.0</td>\n",
              "      <td>...</td>\n",
              "      <td>0.0</td>\n",
              "      <td>0.0</td>\n",
              "      <td>0.0</td>\n",
              "      <td>0.0</td>\n",
              "      <td>0.0</td>\n",
              "      <td>0.0</td>\n",
              "      <td>0.0</td>\n",
              "      <td>0.0</td>\n",
              "      <td>0.0</td>\n",
              "      <td>0.0</td>\n",
              "      <td>0.0</td>\n",
              "      <td>0.0</td>\n",
              "      <td>0.0</td>\n",
              "      <td>0.0</td>\n",
              "      <td>0.0</td>\n",
              "      <td>0.0</td>\n",
              "      <td>0.0</td>\n",
              "      <td>0.0</td>\n",
              "      <td>0.0</td>\n",
              "      <td>0.0</td>\n",
              "      <td>0.0</td>\n",
              "      <td>0.0</td>\n",
              "      <td>0.0</td>\n",
              "      <td>0.0</td>\n",
              "      <td>0.0</td>\n",
              "      <td>0.0</td>\n",
              "      <td>0.0</td>\n",
              "      <td>0.0</td>\n",
              "      <td>0.0</td>\n",
              "      <td>0.0</td>\n",
              "      <td>0.0</td>\n",
              "      <td>0.0</td>\n",
              "      <td>0.0</td>\n",
              "      <td>0.0</td>\n",
              "      <td>0.0</td>\n",
              "      <td>0.0</td>\n",
              "      <td>0.0</td>\n",
              "      <td>0.0</td>\n",
              "      <td>0.0</td>\n",
              "      <td>0.0</td>\n",
              "    </tr>\n",
              "    <tr>\n",
              "      <th>4</th>\n",
              "      <td>0.0</td>\n",
              "      <td>0.0</td>\n",
              "      <td>0.0</td>\n",
              "      <td>0.0</td>\n",
              "      <td>0.0</td>\n",
              "      <td>0.0</td>\n",
              "      <td>0.0</td>\n",
              "      <td>0.0</td>\n",
              "      <td>0.0</td>\n",
              "      <td>0.0</td>\n",
              "      <td>0.0</td>\n",
              "      <td>0.0</td>\n",
              "      <td>0.0</td>\n",
              "      <td>0.0</td>\n",
              "      <td>0.0</td>\n",
              "      <td>0.0</td>\n",
              "      <td>0.0</td>\n",
              "      <td>0.0</td>\n",
              "      <td>0.0</td>\n",
              "      <td>0.0</td>\n",
              "      <td>0.0</td>\n",
              "      <td>0.0</td>\n",
              "      <td>0.0</td>\n",
              "      <td>0.0</td>\n",
              "      <td>0.0</td>\n",
              "      <td>0.0</td>\n",
              "      <td>0.0</td>\n",
              "      <td>0.0</td>\n",
              "      <td>0.0</td>\n",
              "      <td>0.0</td>\n",
              "      <td>0.0</td>\n",
              "      <td>0.0</td>\n",
              "      <td>0.0</td>\n",
              "      <td>0.0</td>\n",
              "      <td>0.0</td>\n",
              "      <td>0.0</td>\n",
              "      <td>0.0</td>\n",
              "      <td>0.0</td>\n",
              "      <td>0.0</td>\n",
              "      <td>0.0</td>\n",
              "      <td>...</td>\n",
              "      <td>0.0</td>\n",
              "      <td>0.0</td>\n",
              "      <td>0.0</td>\n",
              "      <td>0.0</td>\n",
              "      <td>0.0</td>\n",
              "      <td>0.0</td>\n",
              "      <td>0.0</td>\n",
              "      <td>0.0</td>\n",
              "      <td>0.0</td>\n",
              "      <td>0.0</td>\n",
              "      <td>0.0</td>\n",
              "      <td>0.0</td>\n",
              "      <td>0.0</td>\n",
              "      <td>0.0</td>\n",
              "      <td>0.0</td>\n",
              "      <td>0.0</td>\n",
              "      <td>0.0</td>\n",
              "      <td>0.0</td>\n",
              "      <td>0.0</td>\n",
              "      <td>0.0</td>\n",
              "      <td>0.0</td>\n",
              "      <td>0.0</td>\n",
              "      <td>0.0</td>\n",
              "      <td>0.0</td>\n",
              "      <td>0.0</td>\n",
              "      <td>0.0</td>\n",
              "      <td>0.0</td>\n",
              "      <td>0.0</td>\n",
              "      <td>0.0</td>\n",
              "      <td>0.0</td>\n",
              "      <td>0.0</td>\n",
              "      <td>0.0</td>\n",
              "      <td>0.0</td>\n",
              "      <td>0.0</td>\n",
              "      <td>0.0</td>\n",
              "      <td>0.0</td>\n",
              "      <td>0.0</td>\n",
              "      <td>0.0</td>\n",
              "      <td>0.0</td>\n",
              "      <td>0.0</td>\n",
              "    </tr>\n",
              "  </tbody>\n",
              "</table>\n",
              "<p>5 rows × 8057 columns</p>\n",
              "</div>"
            ],
            "text/plain": [
              "    00  000  000sf  ...  ﾏﾝﾊｯﾀﾝ  ﾏﾝﾊｯﾀﾝ10分  ﾐｯﾄﾞﾀｳﾝｳｴｽﾄｻｲﾄﾞ\n",
              "0  0.0  0.0    0.0  ...     0.0        0.0              0.0\n",
              "1  0.0  0.0    0.0  ...     0.0        0.0              0.0\n",
              "2  0.0  0.0    0.0  ...     0.0        0.0              0.0\n",
              "3  0.0  0.0    0.0  ...     0.0        0.0              0.0\n",
              "4  0.0  0.0    0.0  ...     0.0        0.0              0.0\n",
              "\n",
              "[5 rows x 8057 columns]"
            ]
          },
          "metadata": {
            "tags": []
          },
          "execution_count": 17
        }
      ]
    },
    {
      "cell_type": "code",
      "metadata": {
        "id": "w1Rs3oSSgf65",
        "colab_type": "code",
        "colab": {
          "base_uri": "https://localhost:8080/",
          "height": 68
        },
        "outputId": "041fdf59-b69c-4cd7-a37d-e75f947fd1dd"
      },
      "source": [
        "from sklearn.neighbors import NearestNeighbors\n",
        "\n",
        "# Instantiating NearestNeighbors Model\n",
        "nn = NearestNeighbors(n_neighbors=5, algorithm='ball_tree')\n",
        "# Fitting\n",
        "nn.fit(dtm)"
      ],
      "execution_count": null,
      "outputs": [
        {
          "output_type": "execute_result",
          "data": {
            "text/plain": [
              "NearestNeighbors(algorithm='ball_tree', leaf_size=30, metric='minkowski',\n",
              "                 metric_params=None, n_jobs=None, n_neighbors=5, p=2,\n",
              "                 radius=1.0)"
            ]
          },
          "metadata": {
            "tags": []
          },
          "execution_count": 18
        }
      ]
    },
    {
      "cell_type": "code",
      "metadata": {
        "id": "aT49CJWr4L4H",
        "colab_type": "code",
        "colab": {
          "base_uri": "https://localhost:8080/",
          "height": 51
        },
        "outputId": "8c973224-7b4a-4050-8eaa-81f73f8810d8"
      },
      "source": [
        "# CHECK: Outputs\n",
        "nn.kneighbors([dtm.iloc[0].values])"
      ],
      "execution_count": null,
      "outputs": [
        {
          "output_type": "execute_result",
          "data": {
            "text/plain": [
              "(array([[0.        , 0.82742209, 0.87866969, 0.89476908, 0.91907932]]),\n",
              " array([[    0, 46961, 24569, 41051, 16125]]))"
            ]
          },
          "metadata": {
            "tags": []
          },
          "execution_count": 20
        }
      ]
    },
    {
      "cell_type": "code",
      "metadata": {
        "id": "gxH5IUR44Wx5",
        "colab_type": "code",
        "colab": {
          "base_uri": "https://localhost:8080/",
          "height": 34
        },
        "outputId": "a398ad2e-74a5-42ee-a70d-54f7e50a9f7a"
      },
      "source": [
        "# Viewing First Column entry\n",
        "df.name[0]"
      ],
      "execution_count": null,
      "outputs": [
        {
          "output_type": "execute_result",
          "data": {
            "text/plain": [
              "'Clean & quiet apt home by the park'"
            ]
          },
          "metadata": {
            "tags": []
          },
          "execution_count": 21
        }
      ]
    },
    {
      "cell_type": "code",
      "metadata": {
        "id": "1iAR_lwp4aDo",
        "colab_type": "code",
        "colab": {
          "base_uri": "https://localhost:8080/",
          "height": 34
        },
        "outputId": "821e746d-5544-4add-abd3-421fd6842f32"
      },
      "source": [
        "# Viewing Latter Column entry\n",
        "df.name[46961]"
      ],
      "execution_count": null,
      "outputs": [
        {
          "output_type": "execute_result",
          "data": {
            "text/plain": [
              "'Quiet Cozy Clean Home'"
            ]
          },
          "metadata": {
            "tags": []
          },
          "execution_count": 22
        }
      ]
    },
    {
      "cell_type": "code",
      "metadata": {
        "id": "kcVCY6TinZLY",
        "colab_type": "code",
        "colab": {}
      },
      "source": [
        "# Defining Function\n",
        "def similar_places(text):\n",
        "  \"\"\"\n",
        "  Input, text, string\n",
        "  Output, _, json object, orietation='records'\n",
        "\n",
        "  Takes input appends it to a list of other strings,\n",
        "  vectorizes them, then runs them through a\n",
        "  NearestNeighbors model, producing a similarity index.\n",
        "\n",
        "  The similarity index is then used to reference the original\n",
        "  data, and a json object is produced with the 3 most similar\n",
        "  text entries in the data.\n",
        "  \"\"\"\n",
        "  df = pd.read_csv(\"AB_NYC_2019.csv\")\n",
        "  names = list(df.name)\n",
        "  names.append(text)\n",
        "\n",
        "  # Vectorize\n",
        "  dtm = vectorizer.fit_transform(names)\n",
        "  # To a DataFrame\n",
        "  dtm = pd.DataFrame(dtm.todense(), columns=vectorizer.get_feature_names())\n",
        "\n",
        "  # Modeling and Fit\n",
        "  nn = NearestNeighbors(n_neighbors=4, algorithm='ball_tree')\n",
        "  nn.fit(dtm)\n",
        "\n",
        "  # Similarity Index\n",
        "  similarity_index = nn.kneighbors([dtm.iloc[-1].values])\n",
        "  \n",
        "  # Empty List\n",
        "  potential_inns = []\n",
        "  for i in range(1, 4):\n",
        "    potential_inns.append(similarity_index[1][0][i])  \n",
        "  \n",
        "  # Return: JSON List of Similar Entries\n",
        "  return df.iloc[potential_inns].to_json(orient=\"records\")"
      ],
      "execution_count": null,
      "outputs": []
    },
    {
      "cell_type": "code",
      "metadata": {
        "id": "TZxiWz7zrUSl",
        "colab_type": "code",
        "colab": {
          "base_uri": "https://localhost:8080/",
          "height": 54
        },
        "outputId": "03c77a18-11b4-4ad9-d1ad-319ee20bded1"
      },
      "source": [
        "# CHECK: Calling Function\n",
        "similar_places(\"Quiet Place\")"
      ],
      "execution_count": null,
      "outputs": [
        {
          "output_type": "execute_result",
          "data": {
            "text/plain": [
              "'[{\"id\":9497513,\"name\":\"Sunny, quiet place room 1\",\"host_id\":1850477,\"neighbourhood_group\":\"Brooklyn\",\"neighbourhood\":\"Crown Heights\",\"latitude\":40.67797,\"longitude\":-73.94675,\"room_type\":\"Private room\",\"minimum_nights\":3,\"number_of_reviews\":0,\"calculated_host_listings_count\":2,\"availability_365\":320,\"price\":45},{\"id\":26352984,\"name\":\"Quiet place w\\\\/ private bathroom\",\"host_id\":27355064,\"neighbourhood_group\":\"Brooklyn\",\"neighbourhood\":\"Crown Heights\",\"latitude\":40.67508,\"longitude\":-73.91788,\"room_type\":\"Private room\",\"minimum_nights\":1,\"number_of_reviews\":19,\"calculated_host_listings_count\":1,\"availability_365\":153,\"price\":99},{\"id\":34741362,\"name\":\"M\\'s Place\",\"host_id\":260639656,\"neighbourhood_group\":\"Queens\",\"neighbourhood\":\"Long Island City\",\"latitude\":40.74775,\"longitude\":-73.94747,\"room_type\":\"Entire home\\\\/apt\",\"minimum_nights\":2,\"number_of_reviews\":5,\"calculated_host_listings_count\":1,\"availability_365\":54,\"price\":320}]'"
            ]
          },
          "metadata": {
            "tags": []
          },
          "execution_count": 26
        }
      ]
    }
  ]
}